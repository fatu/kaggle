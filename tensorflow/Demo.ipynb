{
 "cells": [
  {
   "cell_type": "markdown",
   "metadata": {},
   "source": [
    "# save model"
   ]
  },
  {
   "cell_type": "code",
   "execution_count": 19,
   "metadata": {},
   "outputs": [],
   "source": [
    "import numpy as np\n",
    "import tensorflow as tf\n",
    "x_train = np.random.random((1000, 32))\n",
    "y_train = np.random.randint(10, size=(1000,))\n",
    "x_val = np.random.random((200, 32))\n",
    "y_val = np.random.randint(10, size=(200,))\n",
    "x_test = np.random.random((200, 32))\n",
    "y_test = np.random.randint(10, size=(200,))"
   ]
  },
  {
   "cell_type": "code",
   "execution_count": 20,
   "metadata": {},
   "outputs": [],
   "source": [
    "def get_uncompiled_model():\n",
    "    inputs = tf.keras.Input(shape=(32,), name='digits',dtype=tf.float16)\n",
    "    x = tf.keras.layers.Dense(64, activation='relu', name='dense_1', dtype=tf.float16)(inputs)\n",
    "    x = tf.keras.layers.Dense(64, activation='relu', name='dense_2',dtype=tf.float16)(x)\n",
    "    outputs = tf.keras.layers.Dense(10, name='predictions',dtype=tf.float16)(x)\n",
    "    model = tf.keras.Model(inputs=inputs, outputs=outputs)\n",
    "    return model\n",
    "\n",
    "def get_compiled_model():\n",
    "    model = get_uncompiled_model()\n",
    "    model.compile(optimizer=tf.keras.optimizers.RMSprop(learning_rate=1e-3),\n",
    "                 loss=tf.keras.losses.SparseCategoricalCrossentropy(from_logits=True),\n",
    "                 metrics=['sparse_categorical_accuracy'])\n",
    "    return model"
   ]
  },
  {
   "cell_type": "code",
   "execution_count": 21,
   "metadata": {},
   "outputs": [],
   "source": [
    "model = get_compiled_model()"
   ]
  },
  {
   "cell_type": "code",
   "execution_count": 22,
   "metadata": {},
   "outputs": [
    {
     "name": "stdout",
     "output_type": "stream",
     "text": [
      "Epoch 1/5\n",
      "32/32 [==============================] - 0s 13ms/step - loss: 49.4333 - sparse_categorical_accuracy: 0.0980 - val_loss: 36.8625 - val_sparse_categorical_accuracy: 0.0600\n",
      "Epoch 2/5\n",
      "32/32 [==============================] - 0s 10ms/step - loss: 28.9548 - sparse_categorical_accuracy: 0.1020 - val_loss: 22.7606 - val_sparse_categorical_accuracy: 0.0900\n",
      "Epoch 3/5\n",
      "32/32 [==============================] - 0s 10ms/step - loss: 20.4050 - sparse_categorical_accuracy: 0.0940 - val_loss: 17.8025 - val_sparse_categorical_accuracy: 0.0850\n",
      "Epoch 4/5\n",
      "32/32 [==============================] - 0s 10ms/step - loss: 15.6937 - sparse_categorical_accuracy: 0.0940 - val_loss: 13.8681 - val_sparse_categorical_accuracy: 0.1000\n",
      "Epoch 5/5\n",
      "32/32 [==============================] - 0s 11ms/step - loss: 12.1441 - sparse_categorical_accuracy: 0.0980 - val_loss: 11.2909 - val_sparse_categorical_accuracy: 0.1100\n"
     ]
    },
    {
     "data": {
      "text/plain": [
       "<tensorflow.python.keras.callbacks.History at 0x16f818d10>"
      ]
     },
     "execution_count": 22,
     "metadata": {},
     "output_type": "execute_result"
    }
   ],
   "source": [
    "model.fit(x_train, y_train, batch_size=32, epochs=5, validation_data=(x_val, y_val))"
   ]
  },
  {
   "cell_type": "code",
   "execution_count": 23,
   "metadata": {},
   "outputs": [
    {
     "name": "stdout",
     "output_type": "stream",
     "text": [
      "Model: \"model_1\"\n",
      "_________________________________________________________________\n",
      "Layer (type)                 Output Shape              Param #   \n",
      "=================================================================\n",
      "digits (InputLayer)          [(None, 32)]              0         \n",
      "_________________________________________________________________\n",
      "dense_1 (Dense)              (None, 64)                2112      \n",
      "_________________________________________________________________\n",
      "dense_2 (Dense)              (None, 64)                4160      \n",
      "_________________________________________________________________\n",
      "predictions (Dense)          (None, 10)                650       \n",
      "=================================================================\n",
      "Total params: 6,922\n",
      "Trainable params: 6,922\n",
      "Non-trainable params: 0\n",
      "_________________________________________________________________\n"
     ]
    }
   ],
   "source": [
    "model.summary()"
   ]
  },
  {
   "cell_type": "markdown",
   "metadata": {},
   "source": [
    "## save weights"
   ]
  },
  {
   "cell_type": "code",
   "execution_count": 7,
   "metadata": {},
   "outputs": [],
   "source": [
    "model.save_weights(\"drrp.h5\")"
   ]
  },
  {
   "cell_type": "code",
   "execution_count": 8,
   "metadata": {},
   "outputs": [],
   "source": [
    "model.load_weights(\"drrp.h5\")"
   ]
  },
  {
   "cell_type": "code",
   "execution_count": 9,
   "metadata": {},
   "outputs": [
    {
     "data": {
      "text/plain": [
       "array([[ -27.78,  -83.4 ,  -47.7 , ...,  -73.5 ,  -28.86,  -38.4 ],\n",
       "       [ -65.7 ,  -97.94,  -70.44, ...,  -98.2 ,  -53.8 ,  -51.56],\n",
       "       [ -32.3 ,  -78.5 ,  -34.56, ...,  -33.56,  -37.97,  -39.97],\n",
       "       ...,\n",
       "       [ -69.2 ,  -73.4 ,  -62.8 , ..., -105.06,  -67.7 ,  -73.94],\n",
       "       [ -41.3 ,  -43.53,  -43.9 , ...,  -28.58,  -33.03,  -37.06],\n",
       "       [ -37.56, -103.2 ,  -54.38, ...,  -75.2 ,  -84.9 ,  -43.22]],\n",
       "      dtype=float16)"
      ]
     },
     "execution_count": 9,
     "metadata": {},
     "output_type": "execute_result"
    }
   ],
   "source": [
    "model.predict(x_test)"
   ]
  },
  {
   "cell_type": "code",
   "execution_count": 10,
   "metadata": {},
   "outputs": [
    {
     "data": {
      "text/plain": [
       "array([[ -27.78,  -83.4 ,  -47.7 , ...,  -73.5 ,  -28.86,  -38.4 ],\n",
       "       [ -65.7 ,  -97.94,  -70.44, ...,  -98.2 ,  -53.8 ,  -51.56],\n",
       "       [ -32.3 ,  -78.5 ,  -34.56, ...,  -33.56,  -37.97,  -39.97],\n",
       "       ...,\n",
       "       [ -69.2 ,  -73.4 ,  -62.8 , ..., -105.06,  -67.7 ,  -73.94],\n",
       "       [ -41.3 ,  -43.53,  -43.9 , ...,  -28.58,  -33.03,  -37.06],\n",
       "       [ -37.56, -103.2 ,  -54.38, ...,  -75.2 ,  -84.9 ,  -43.22]],\n",
       "      dtype=float16)"
      ]
     },
     "execution_count": 10,
     "metadata": {},
     "output_type": "execute_result"
    }
   ],
   "source": [
    "# checkpoints\n",
    "model.save_weights('./checkpoints/mannul_checkpoint')\n",
    "model.load_weights('./checkpoints/mannul_checkpoint')\n",
    "model.predict(x_test)"
   ]
  },
  {
   "cell_type": "markdown",
   "metadata": {},
   "source": [
    "## Save Keras model"
   ]
  },
  {
   "cell_type": "code",
   "execution_count": 11,
   "metadata": {},
   "outputs": [
    {
     "data": {
      "text/plain": [
       "array([[ -27.78,  -83.4 ,  -47.7 , ...,  -73.5 ,  -28.86,  -38.4 ],\n",
       "       [ -65.7 ,  -97.94,  -70.44, ...,  -98.2 ,  -53.8 ,  -51.56],\n",
       "       [ -32.3 ,  -78.5 ,  -34.56, ...,  -33.56,  -37.97,  -39.97],\n",
       "       ...,\n",
       "       [ -69.2 ,  -73.4 ,  -62.8 , ..., -105.06,  -67.7 ,  -73.94],\n",
       "       [ -41.3 ,  -43.53,  -43.9 , ...,  -28.58,  -33.03,  -37.06],\n",
       "       [ -37.56, -103.2 ,  -54.38, ...,  -75.2 ,  -84.9 ,  -43.22]],\n",
       "      dtype=float16)"
      ]
     },
     "execution_count": 11,
     "metadata": {},
     "output_type": "execute_result"
    }
   ],
   "source": [
    "model.save('path_to_my_model.h5')\n",
    "\n",
    "new_model = tf.keras.models.load_model('path_to_my_model.h5')\n",
    "new_model.predict(x_test)"
   ]
  },
  {
   "cell_type": "code",
   "execution_count": 12,
   "metadata": {},
   "outputs": [
    {
     "name": "stdout",
     "output_type": "stream",
     "text": [
      "Loaded scoring jar from /Users/fatu/venv/tensorflow2py37/jars/scoring-all-in-one.jar\n"
     ]
    }
   ],
   "source": [
    "import pyScoring"
   ]
  },
  {
   "cell_type": "markdown",
   "metadata": {},
   "source": [
    "## Save tensorflow format"
   ]
  },
  {
   "cell_type": "code",
   "execution_count": 13,
   "metadata": {},
   "outputs": [
    {
     "name": "stdout",
     "output_type": "stream",
     "text": [
      "WARNING:tensorflow:From /Users/fatu/venv/tensorflow2py37/lib/python3.7/site-packages/tensorflow/python/ops/resource_variable_ops.py:1817: calling BaseResourceVariable.__init__ (from tensorflow.python.ops.resource_variable_ops) with constraint is deprecated and will be removed in a future version.\n",
      "Instructions for updating:\n",
      "If using Keras pass *_constraint arguments to layers.\n",
      "INFO:tensorflow:Assets written to: path_to_saved_model/assets\n"
     ]
    },
    {
     "data": {
      "text/plain": [
       "array([[ -27.78,  -83.4 ,  -47.7 , ...,  -73.5 ,  -28.86,  -38.4 ],\n",
       "       [ -65.7 ,  -97.94,  -70.44, ...,  -98.2 ,  -53.8 ,  -51.56],\n",
       "       [ -32.3 ,  -78.5 ,  -34.56, ...,  -33.56,  -37.97,  -39.97],\n",
       "       ...,\n",
       "       [ -69.2 ,  -73.4 ,  -62.8 , ..., -105.06,  -67.7 ,  -73.94],\n",
       "       [ -41.3 ,  -43.53,  -43.9 , ...,  -28.58,  -33.03,  -37.06],\n",
       "       [ -37.56, -103.2 ,  -54.38, ...,  -75.2 ,  -84.9 ,  -43.22]],\n",
       "      dtype=float16)"
      ]
     },
     "execution_count": 13,
     "metadata": {},
     "output_type": "execute_result"
    }
   ],
   "source": [
    "model.save('path_to_saved_model', save_format='tf')\n",
    "\n",
    "new_model = tf.keras.models.load_model('path_to_saved_model')\n",
    "new_model.predict(x_test)"
   ]
  },
  {
   "cell_type": "code",
   "execution_count": 14,
   "metadata": {},
   "outputs": [
    {
     "name": "stdout",
     "output_type": "stream",
     "text": [
      "INFO:tensorflow:Assets written to: my_saved_model/assets\n"
     ]
    }
   ],
   "source": [
    "tf.saved_model.save(model, 'my_saved_model')\n",
    "restored_saved_model = tf.saved_model.load('my_saved_model')\n",
    "f = restored_saved_model.signatures[\"serving_default\"]"
   ]
  },
  {
   "cell_type": "code",
   "execution_count": 15,
   "metadata": {},
   "outputs": [
    {
     "name": "stdout",
     "output_type": "stream",
     "text": [
      "\n",
      "MetaGraphDef with tag-set: 'serve' contains the following SignatureDefs:\n",
      "\n",
      "signature_def['__saved_model_init_op']:\n",
      "  The given SavedModel SignatureDef contains the following input(s):\n",
      "  The given SavedModel SignatureDef contains the following output(s):\n",
      "    outputs['__saved_model_init_op'] tensor_info:\n",
      "        dtype: DT_INVALID\n",
      "        shape: unknown_rank\n",
      "        name: NoOp\n",
      "  Method name is: \n",
      "\n",
      "signature_def['serving_default']:\n",
      "  The given SavedModel SignatureDef contains the following input(s):\n",
      "    inputs['digits'] tensor_info:\n",
      "        dtype: DT_HALF\n",
      "        shape: (-1, 32)\n",
      "        name: serving_default_digits:0\n",
      "  The given SavedModel SignatureDef contains the following output(s):\n",
      "    outputs['predictions'] tensor_info:\n",
      "        dtype: DT_HALF\n",
      "        shape: (-1, 10)\n",
      "        name: StatefulPartitionedCall:0\n",
      "  Method name is: tensorflow/serving/predict\n",
      "WARNING:tensorflow:From /Users/fatu/venv/tensorflow2py37/lib/python3.7/site-packages/tensorflow/python/ops/resource_variable_ops.py:1817: calling BaseResourceVariable.__init__ (from tensorflow.python.ops.resource_variable_ops) with constraint is deprecated and will be removed in a future version.\n",
      "Instructions for updating:\n",
      "If using Keras pass *_constraint arguments to layers.\n",
      "\n",
      "Defined Functions:\n",
      "  Function Name: '__call__'\n",
      "    Option #1\n",
      "      Callable with:\n",
      "        Argument #1\n",
      "          digits: TensorSpec(shape=(None, 32), dtype=tf.float16, name='digits')\n",
      "        Argument #2\n",
      "          DType: bool\n",
      "          Value: True\n",
      "        Argument #3\n",
      "          DType: NoneType\n",
      "          Value: None\n",
      "    Option #2\n",
      "      Callable with:\n",
      "        Argument #1\n",
      "          inputs: TensorSpec(shape=(None, 32), dtype=tf.float16, name='inputs')\n",
      "        Argument #2\n",
      "          DType: bool\n",
      "          Value: True\n",
      "        Argument #3\n",
      "          DType: NoneType\n",
      "          Value: None\n",
      "    Option #3\n",
      "      Callable with:\n",
      "        Argument #1\n",
      "          inputs: TensorSpec(shape=(None, 32), dtype=tf.float16, name='inputs')\n",
      "        Argument #2\n",
      "          DType: bool\n",
      "          Value: False\n",
      "        Argument #3\n",
      "          DType: NoneType\n",
      "          Value: None\n",
      "    Option #4\n",
      "      Callable with:\n",
      "        Argument #1\n",
      "          digits: TensorSpec(shape=(None, 32), dtype=tf.float16, name='digits')\n",
      "        Argument #2\n",
      "          DType: bool\n",
      "          Value: False\n",
      "        Argument #3\n",
      "          DType: NoneType\n",
      "          Value: None\n",
      "\n",
      "  Function Name: '_default_save_signature'\n",
      "    Option #1\n",
      "      Callable with:\n",
      "        Argument #1\n",
      "          digits: TensorSpec(shape=(None, 32), dtype=tf.float16, name='digits')\n",
      "\n",
      "  Function Name: 'call_and_return_all_conditional_losses'\n",
      "    Option #1\n",
      "      Callable with:\n",
      "        Argument #1\n",
      "          digits: TensorSpec(shape=(None, 32), dtype=tf.float16, name='digits')\n",
      "        Argument #2\n",
      "          DType: bool\n",
      "          Value: True\n",
      "        Argument #3\n",
      "          DType: NoneType\n",
      "          Value: None\n",
      "    Option #2\n",
      "      Callable with:\n",
      "        Argument #1\n",
      "          digits: TensorSpec(shape=(None, 32), dtype=tf.float16, name='digits')\n",
      "        Argument #2\n",
      "          DType: bool\n",
      "          Value: False\n",
      "        Argument #3\n",
      "          DType: NoneType\n",
      "          Value: None\n",
      "    Option #3\n",
      "      Callable with:\n",
      "        Argument #1\n",
      "          inputs: TensorSpec(shape=(None, 32), dtype=tf.float16, name='inputs')\n",
      "        Argument #2\n",
      "          DType: bool\n",
      "          Value: False\n",
      "        Argument #3\n",
      "          DType: NoneType\n",
      "          Value: None\n",
      "    Option #4\n",
      "      Callable with:\n",
      "        Argument #1\n",
      "          inputs: TensorSpec(shape=(None, 32), dtype=tf.float16, name='inputs')\n",
      "        Argument #2\n",
      "          DType: bool\n",
      "          Value: True\n",
      "        Argument #3\n",
      "          DType: NoneType\n",
      "          Value: None\n"
     ]
    }
   ],
   "source": [
    "!source ~/venv/tensorflow2py37/bin/activate && python /Users/fatu/venv/tensorflow1.5/bin/saved_model_cli show --dir my_saved_model --all"
   ]
  },
  {
   "cell_type": "code",
   "execution_count": 16,
   "metadata": {},
   "outputs": [
    {
     "name": "stdout",
     "output_type": "stream",
     "text": [
      "\u001b[01;34mpath_to_saved_model\u001b[00m\n",
      "├── \u001b[01;34massets\u001b[00m\n",
      "├── saved_model.pb\n",
      "└── \u001b[01;34mvariables\u001b[00m\n",
      "    ├── variables.data-00000-of-00001\n",
      "    └── variables.index\n",
      "\n",
      "2 directories, 3 files\n"
     ]
    }
   ],
   "source": [
    "!tree path_to_saved_model"
   ]
  },
  {
   "cell_type": "code",
   "execution_count": 17,
   "metadata": {},
   "outputs": [],
   "source": [
    "from pyScoring import ModelCreator"
   ]
  },
  {
   "cell_type": "code",
   "execution_count": 24,
   "metadata": {},
   "outputs": [],
   "source": [
    "test = ModelCreator(\"test\")"
   ]
  },
  {
   "cell_type": "code",
   "execution_count": 25,
   "metadata": {},
   "outputs": [
    {
     "name": "stdout",
     "output_type": "stream",
     "text": [
      "The input is empty, we will try to imply the input size\n",
      "find model input size is 32 flatten the input...\n",
      "generated input ['c0', 'c1', 'c2', 'c3', 'c4', 'c5', 'c6', 'c7', 'c8', 'c9', 'c10', 'c11', 'c12', 'c13', 'c14', 'c15', 'c16', 'c17', 'c18', 'c19', 'c20', 'c21', 'c22', 'c23', 'c24', 'c25', 'c26', 'c27', 'c28', 'c29', 'c30', 'c31']\n",
      "Num_of_layers= 4\n",
      "In layer # -1\n"
     ]
    },
    {
     "ename": "KeyError",
     "evalue": "'digits'",
     "output_type": "error",
     "traceback": [
      "\u001b[0;31m---------------------------------------------------------------------------\u001b[0m",
      "\u001b[0;31mKeyError\u001b[0m                                  Traceback (most recent call last)",
      "\u001b[0;32m<ipython-input-25-e0dbb27dcf70>\u001b[0m in \u001b[0;36m<module>\u001b[0;34m\u001b[0m\n\u001b[0;32m----> 1\u001b[0;31m \u001b[0mtest\u001b[0m\u001b[0;34m.\u001b[0m\u001b[0maddKerasModel\u001b[0m\u001b[0;34m(\u001b[0m\u001b[0mmodel\u001b[0m\u001b[0;34m)\u001b[0m\u001b[0;34m\u001b[0m\u001b[0;34m\u001b[0m\u001b[0m\n\u001b[0m",
      "\u001b[0;32m~/venv/tensorflow2py37/lib/python3.7/site-packages/pyScoring/smart_model_builder.py\u001b[0m in \u001b[0;36maddKerasModel\u001b[0;34m(self, model, inputs, outputs, implenmentation)\u001b[0m\n\u001b[1;32m    313\u001b[0m         \u001b[0;32melif\u001b[0m \u001b[0misinstance\u001b[0m\u001b[0;34m(\u001b[0m\u001b[0mmodel\u001b[0m\u001b[0;34m,\u001b[0m \u001b[0mModel\u001b[0m\u001b[0;34m)\u001b[0m \u001b[0;32mor\u001b[0m \u001b[0;34m(\u001b[0m\u001b[0mkeras_found\u001b[0m \u001b[0;32mand\u001b[0m \u001b[0misinstance\u001b[0m\u001b[0;34m(\u001b[0m\u001b[0mmodel\u001b[0m\u001b[0;34m,\u001b[0m \u001b[0mModel_keras\u001b[0m\u001b[0;34m)\u001b[0m\u001b[0;34m)\u001b[0m\u001b[0;34m:\u001b[0m\u001b[0;34m\u001b[0m\u001b[0;34m\u001b[0m\u001b[0m\n\u001b[1;32m    314\u001b[0m             \u001b[0;32mfrom\u001b[0m \u001b[0mpyScoring\u001b[0m\u001b[0;34m.\u001b[0m\u001b[0mkeras\u001b[0m\u001b[0;34m.\u001b[0m\u001b[0mkeras_functional\u001b[0m \u001b[0;32mimport\u001b[0m \u001b[0mKerasFunctional\u001b[0m\u001b[0;34m\u001b[0m\u001b[0;34m\u001b[0m\u001b[0m\n\u001b[0;32m--> 315\u001b[0;31m             \u001b[0mKerasFunctional\u001b[0m\u001b[0;34m(\u001b[0m\u001b[0mself\u001b[0m\u001b[0;34m.\u001b[0m\u001b[0minst\u001b[0m\u001b[0;34m,\u001b[0m \u001b[0mmodel\u001b[0m\u001b[0;34m,\u001b[0m \u001b[0minputs\u001b[0m\u001b[0;34m=\u001b[0m\u001b[0minputs\u001b[0m\u001b[0;34m,\u001b[0m \u001b[0moutputs\u001b[0m\u001b[0;34m=\u001b[0m\u001b[0moutputs\u001b[0m\u001b[0;34m)\u001b[0m\u001b[0;34m\u001b[0m\u001b[0;34m\u001b[0m\u001b[0m\n\u001b[0m\u001b[1;32m    316\u001b[0m         \u001b[0;32melse\u001b[0m\u001b[0;34m:\u001b[0m\u001b[0;34m\u001b[0m\u001b[0;34m\u001b[0m\u001b[0m\n\u001b[1;32m    317\u001b[0m             \u001b[0;32mraise\u001b[0m \u001b[0mException\u001b[0m\u001b[0;34m(\u001b[0m\u001b[0;34m\"Model type\"\u001b[0m\u001b[0;34m,\u001b[0m \u001b[0mstr\u001b[0m\u001b[0;34m(\u001b[0m\u001b[0mtype\u001b[0m\u001b[0;34m(\u001b[0m\u001b[0mmodel\u001b[0m\u001b[0;34m)\u001b[0m\u001b[0;34m)\u001b[0m\u001b[0;34m,\u001b[0m \u001b[0;34m\"not supported!\"\u001b[0m\u001b[0;34m)\u001b[0m\u001b[0;34m\u001b[0m\u001b[0;34m\u001b[0m\u001b[0m\n",
      "\u001b[0;32m~/venv/tensorflow2py37/lib/python3.7/site-packages/pyScoring/keras/keras_functional.py\u001b[0m in \u001b[0;36m__init__\u001b[0;34m(self, inst, model, name, inputs, outputs)\u001b[0m\n\u001b[1;32m    153\u001b[0m \u001b[0;34m\u001b[0m\u001b[0m\n\u001b[1;32m    154\u001b[0m         \u001b[0;32mif\u001b[0m \u001b[0mself\u001b[0m\u001b[0;34m.\u001b[0m\u001b[0minst\u001b[0m \u001b[0;32mis\u001b[0m \u001b[0;32mnot\u001b[0m \u001b[0;32mNone\u001b[0m\u001b[0;34m:\u001b[0m\u001b[0;34m\u001b[0m\u001b[0;34m\u001b[0m\u001b[0m\n\u001b[0;32m--> 155\u001b[0;31m             \u001b[0mnodes\u001b[0m \u001b[0;34m=\u001b[0m \u001b[0mself\u001b[0m\u001b[0;34m.\u001b[0m\u001b[0mparseLayers\u001b[0m\u001b[0;34m(\u001b[0m\u001b[0;34m)\u001b[0m\u001b[0;34m\u001b[0m\u001b[0;34m\u001b[0m\u001b[0m\n\u001b[0m\u001b[1;32m    156\u001b[0m             \u001b[0;32mfor\u001b[0m \u001b[0mnode\u001b[0m \u001b[0;32min\u001b[0m \u001b[0mnodes\u001b[0m\u001b[0;34m:\u001b[0m\u001b[0;34m\u001b[0m\u001b[0;34m\u001b[0m\u001b[0m\n\u001b[1;32m    157\u001b[0m                 \u001b[0;32mif\u001b[0m \u001b[0mnode\u001b[0m \u001b[0;32mis\u001b[0m \u001b[0;32mnot\u001b[0m \u001b[0;32mNone\u001b[0m\u001b[0;34m:\u001b[0m\u001b[0;34m\u001b[0m\u001b[0;34m\u001b[0m\u001b[0m\n",
      "\u001b[0;32m~/venv/tensorflow2py37/lib/python3.7/site-packages/pyScoring/keras/keras_functional.py\u001b[0m in \u001b[0;36mparseLayers\u001b[0;34m(self)\u001b[0m\n\u001b[1;32m    186\u001b[0m                 \u001b[0;34m'Multiply'\u001b[0m\u001b[0;34m:\u001b[0m \u001b[0mself\u001b[0m\u001b[0;34m.\u001b[0m\u001b[0mcreateMultiply\u001b[0m\u001b[0;34m,\u001b[0m\u001b[0;34m\u001b[0m\u001b[0;34m\u001b[0m\u001b[0m\n\u001b[1;32m    187\u001b[0m                 \u001b[0;34m'Average'\u001b[0m\u001b[0;34m:\u001b[0m \u001b[0mself\u001b[0m\u001b[0;34m.\u001b[0m\u001b[0mcreateAverage\u001b[0m\u001b[0;34m\u001b[0m\u001b[0;34m\u001b[0m\u001b[0m\n\u001b[0;32m--> 188\u001b[0;31m             }[class_name](layer, weight_index)\n\u001b[0m\u001b[1;32m    189\u001b[0m             \u001b[0mcompute_nodes\u001b[0m\u001b[0;34m.\u001b[0m\u001b[0mappend\u001b[0m\u001b[0;34m(\u001b[0m\u001b[0mnode\u001b[0m\u001b[0;34m)\u001b[0m\u001b[0;34m\u001b[0m\u001b[0;34m\u001b[0m\u001b[0m\n\u001b[1;32m    190\u001b[0m             \u001b[0mself\u001b[0m\u001b[0;34m.\u001b[0m\u001b[0mlayer_counter\u001b[0m \u001b[0;34m=\u001b[0m \u001b[0mself\u001b[0m\u001b[0;34m.\u001b[0m\u001b[0mlayer_counter\u001b[0m \u001b[0;34m+\u001b[0m \u001b[0;36m1\u001b[0m\u001b[0;34m\u001b[0m\u001b[0;34m\u001b[0m\u001b[0m\n",
      "\u001b[0;32m~/venv/tensorflow2py37/lib/python3.7/site-packages/pyScoring/keras/keras_functional.py\u001b[0m in \u001b[0;36mcreateInput\u001b[0;34m(self, layer, index)\u001b[0m\n\u001b[1;32m    303\u001b[0m         \u001b[0;31m# supports many inputs (list type)\u001b[0m\u001b[0;34m\u001b[0m\u001b[0;34m\u001b[0m\u001b[0;34m\u001b[0m\u001b[0m\n\u001b[1;32m    304\u001b[0m         \u001b[0;32mif\u001b[0m \u001b[0misinstance\u001b[0m\u001b[0;34m(\u001b[0m\u001b[0mself\u001b[0m\u001b[0;34m.\u001b[0m\u001b[0minputs\u001b[0m\u001b[0;34m,\u001b[0m \u001b[0mdict\u001b[0m\u001b[0;34m)\u001b[0m\u001b[0;34m:\u001b[0m\u001b[0;34m\u001b[0m\u001b[0;34m\u001b[0m\u001b[0m\n\u001b[0;32m--> 305\u001b[0;31m             \u001b[0moutputs\u001b[0m \u001b[0;34m=\u001b[0m \u001b[0mself\u001b[0m\u001b[0;34m.\u001b[0m\u001b[0minputs\u001b[0m\u001b[0;34m[\u001b[0m\u001b[0mname\u001b[0m\u001b[0;34m]\u001b[0m\u001b[0;34m\u001b[0m\u001b[0;34m\u001b[0m\u001b[0m\n\u001b[0m\u001b[1;32m    306\u001b[0m             \u001b[0;32mif\u001b[0m \u001b[0mlen\u001b[0m\u001b[0;34m(\u001b[0m\u001b[0moutputs\u001b[0m\u001b[0;34m)\u001b[0m \u001b[0;34m>\u001b[0m \u001b[0;36m1\u001b[0m\u001b[0;34m:\u001b[0m \u001b[0;31m## multiple input, use aseemble node\u001b[0m\u001b[0;34m\u001b[0m\u001b[0;34m\u001b[0m\u001b[0m\n\u001b[1;32m    307\u001b[0m                 \u001b[0mnode\u001b[0m \u001b[0;34m=\u001b[0m \u001b[0mUMEInputNode\u001b[0m\u001b[0;34m(\u001b[0m\u001b[0mString\u001b[0m\u001b[0;34m(\u001b[0m\u001b[0mname\u001b[0m\u001b[0;34m)\u001b[0m\u001b[0;34m,\u001b[0m \u001b[0moutputs\u001b[0m\u001b[0;34m)\u001b[0m\u001b[0;34m\u001b[0m\u001b[0;34m\u001b[0m\u001b[0m\n",
      "\u001b[0;31mKeyError\u001b[0m: 'digits'"
     ]
    }
   ],
   "source": [
    "test.addKerasModel(model)"
   ]
  },
  {
   "cell_type": "code",
   "execution_count": 26,
   "metadata": {},
   "outputs": [
    {
     "name": "stdout",
     "output_type": "stream",
     "text": [
      "Help on ModelCreator in module pyScoring.smart_model_builder object:\n",
      "\n",
      "class ModelCreator(builtins.object)\n",
      " |  ModelCreator(name: str = '')\n",
      " |  \n",
      " |  Methods defined here:\n",
      " |  \n",
      " |  __init__(self, name: str = '')\n",
      " |      Initialize self.  See help(type(self)) for accurate signature.\n",
      " |  \n",
      " |  addH2OTransforms(self, name_of_modelConfig: str, path_to_modelConfig: str) -> str\n",
      " |      Add H2O MOJO file transformation\n",
      " |  \n",
      " |  addKerasModel(self, model, inputs: list = None, outputs: list = None, implenmentation=0) -> None\n",
      " |      Add model built from Keras\n",
      " |      \n",
      " |      Args:\n",
      " |          model: A model from Keras\n",
      " |          inputs: the input variables, if the inputs is None, all the input \n",
      " |                  variables will generated, e.g. if the model have multiple inputs, \n",
      " |                  each inputs will have a prefix k, and const charactor 'c', append another index for the ith features\n",
      " |                  e.g. [[0c0, 0c1, 0c2, 0c3, ...], [1c0, 1c1, 1c2,...]...]  \n",
      " |                  if the model have only one input, the input will not have the prefix\n",
      " |                  e.g. [c1, c2, c3, c4] etc\n",
      " |                  if specified the inputs, the input should be a list, and exactly match to the model's input\n",
      " |          outputs: the output names, those names will be set to the actual \n",
      " |                   RTCS output & log, if it's not set, the output will be \n",
      " |                   find from models output tensor name\n",
      " |          implenmentation: how to implement the tf model, \n",
      " |                           `0`, default value, we will using native to implement \n",
      " |                           the model for better compatible and less dependency\n",
      " |                           `1`, call tensorflow backend which rely on the jni \n",
      " |                           call\n",
      " |  \n",
      " |  addLightGBMJsonTransforms(self, path_to_modelConfig: str) -> []\n",
      " |      Add LightGBMJson transformation\n",
      " |      return outputs\n",
      " |  \n",
      " |  addNode(self, node: jnius.reflect.com.paypal.risk.engine.model.meta.ComputeNode, index: int = None) -> None\n",
      " |      add a self defined compute node from NodeCreator\n",
      " |      node: the node instance from UMENodeBuilder\n",
      " |      index: the node location of layer\n",
      " |  \n",
      " |  addOutput(self, name: str) -> None\n",
      " |      add a output for the model, which should be either the nodes output \n",
      " |      or input\n",
      " |      name should only contain alpha, digit and \"_\"\n",
      " |  \n",
      " |  addShifuGBTTransforms(self, path_to_modelConfig: str, output_name: str = None) -> None\n",
      " |      Add shifuGBT transformation\n",
      " |      output_name: expected name of GBT model score\n",
      " |      default is \"treeFinalResult\"\n",
      " |  \n",
      " |  addShifuNNTransforms(self, basepath_to_model: str, output_name: str = None) -> None\n",
      " |      Add shifuNN transformation\n",
      " |      basepath structure:\n",
      " |      basepath/ModelConfig.json\n",
      " |      basepath/ColumnConfig.json\n",
      " |      basepath/models\n",
      " |      output_name: expected name of NN model score\n",
      " |      default is \"FinalResult\"\n",
      " |  \n",
      " |  addShifuTransforms(self, path_to_modelConfig: str, path_to_columnConfig: str) -> None\n",
      " |      Add shifu transformation\n",
      " |  \n",
      " |  addSklearnModel(self, model)\n",
      " |  \n",
      " |  addTFKerasModel(self, outputs=None, model=None, path=None) -> None\n",
      " |      Add model built from Keras\n",
      " |      \n",
      " |      Args:\n",
      " |          model: A model from Keras (supply this arg or path arg)\n",
      " |          path: the model h5 file (supply this arg or model arg)\n",
      " |          outputs: the output names, those names will be set to the actual\n",
      " |                   RTCS output & log, if it's not set, the output will be\n",
      " |                   find from models output tensor name\n",
      " |  \n",
      " |  addTfIdfTransforms(self, path_to_columnConfig: str, input: str) -> []\n",
      " |      Add TFIDF transformation\n",
      " |      path_to_columnConfig: TFIDF data\n",
      " |      TFIDF file format:\n",
      " |      first line is schema\n",
      " |      first column is TF\n",
      " |      second column is IDF\n",
      " |      delimiter is |\n",
      " |  \n",
      " |  addTreeDotTransforms(self, path_to_modelConfig: str, path_to_columnConfig: str = None, debug: int = 0) -> []\n",
      " |      Add Tree dot file transformation\n",
      " |      debug 1: return transform outputs and tree outputs\n",
      " |            null: production version, only return tree outputs\n",
      " |  \n",
      " |  build(self) -> pyScoring.model.UMEModel\n",
      " |      create a UME model instance\n",
      " |  \n",
      " |  createUnAssembleNode(self, inputs, input_size, outputs)\n",
      " |  \n",
      " |  currentExecPlan(self) -> None\n",
      " |      print the model execution plan\n",
      " |  \n",
      " |  generateDefaultOutputs(self) -> None\n",
      " |      generate default model outputs= all outputs\n",
      " |      who aren't used as an input\n",
      " |      name should only contain alpha, digit and \"_\"\n",
      " |  \n",
      " |  ----------------------------------------------------------------------\n",
      " |  Data descriptors defined here:\n",
      " |  \n",
      " |  __dict__\n",
      " |      dictionary for instance variables (if defined)\n",
      " |  \n",
      " |  __weakref__\n",
      " |      list of weak references to the object (if defined)\n",
      "\n"
     ]
    }
   ],
   "source": [
    "help(test)"
   ]
  },
  {
   "cell_type": "code",
   "execution_count": null,
   "metadata": {},
   "outputs": [],
   "source": []
  }
 ],
 "metadata": {
  "kernelspec": {
   "display_name": "tensorflow2py37",
   "language": "python",
   "name": "tensorflow2py37"
  },
  "language_info": {
   "codemirror_mode": {
    "name": "ipython",
    "version": 3
   },
   "file_extension": ".py",
   "mimetype": "text/x-python",
   "name": "python",
   "nbconvert_exporter": "python",
   "pygments_lexer": "ipython3",
   "version": "3.7.7"
  }
 },
 "nbformat": 4,
 "nbformat_minor": 4
}
