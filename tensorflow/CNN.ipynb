{
 "cells": [
  {
   "cell_type": "markdown",
   "metadata": {},
   "source": [
    "# CNN的基本原理"
   ]
  },
  {
   "cell_type": "markdown",
   "metadata": {},
   "source": [
    "* 卷积层\n",
    "* 池化层\n",
    "* 全接连层"
   ]
  },
  {
   "cell_type": "markdown",
   "metadata": {},
   "source": [
    "* 通道\n",
    "* 卷积核"
   ]
  },
  {
   "cell_type": "markdown",
   "metadata": {},
   "source": [
    "手动实现卷积层numpy"
   ]
  },
  {
   "cell_type": "code",
   "execution_count": 5,
   "metadata": {},
   "outputs": [],
   "source": [
    "# x: input\n",
    "# w: kernel\n",
    "# b: bias\n",
    "# pad: padding\n",
    "def conv_numpy(x, w, b, pad, strides):\n",
    "    out = None\n",
    "    \n",
    "    N, H, W, C = x.shape # N:sampls, H: height, W:width, C: Channel\n",
    "    F, HH, WW, C = w.shape # F: output channel, HH: height, WW: width, C: input channel\n",
    "    \n",
    "    X = np.pad(x, ((0, 0), (pad, pad), (pad, pad) (0, 0)), 'constant') #(00pppp00) -> NHWC\n",
    "    \n",
    "    Hn = 1 + int((H + 2 * pad - HH) / strides[0])\n",
    "    Wn = 1 + int((W + 2 * pad - WW) / strides[1])\n",
    "    \n",
    "    out = np.zeros((N, Hn, Wn, F))\n",
    "    \n",
    "    for n in range(N):\n",
    "        for m in range(F):\n",
    "            for i in range(Hn):\n",
    "                for j in range(Wn):\n",
    "                    data = X[n, i * strides[0]:i * strides[0] + HH, j * strides[1]: j * strides[1] + WW, :].reshape(1, -1)\n",
    "                    filt = w[m].reshape(-1, 1)\n",
    "                    out[n, i, j, m] = data.dot(filt) + b[m]\n",
    "    return out"
   ]
  },
  {
   "cell_type": "code",
   "execution_count": 28,
   "metadata": {},
   "outputs": [],
   "source": [
    "def corr2d(x, w, b, pad, stride):\n",
    "    N, H, W, C = tf.shape(x)\n",
    "    F, HH, WW, C = tf.shape(w)\n",
    "    \n",
    "    x = tf.pad(x, ((0,0),(pad, pad),(pad, pad), (0,0)), 'constant')\n",
    "    Hn = 1 + int((H + 2 * pad - HH) / stride[0])\n",
    "    Wn = 1 + int((W + 2 * pad - WW) / stride[1])\n",
    "    Y = tf.Variable(tf.zeros((N, Hn, Wn, F), dtype=tf.float32))\n",
    "    \n",
    "    for m in range(F):\n",
    "        for i in range(Hn):\n",
    "            for j in range(Wn):\n",
    "                data = x[:, i * stride[0]:i * 1 + HH, j * stride[1]:j * 1 + WW, :]\n",
    "                filt = w[m,:,:,:]\n",
    "                Y[:, i, j, m].assign(tf.reduce_sum(tf.multiply(data, filt), axis=(1,2,3))+b[m])\n",
    "    return Y"
   ]
  },
  {
   "cell_type": "markdown",
   "metadata": {},
   "source": [
    "手动实现池化层"
   ]
  },
  {
   "cell_type": "code",
   "execution_count": 35,
   "metadata": {},
   "outputs": [
    {
     "data": {
      "text/plain": [
       "array([[9]])"
      ]
     },
     "execution_count": 35,
     "metadata": {},
     "output_type": "execute_result"
    }
   ],
   "source": [
    "def max_pool_forward_naive(x, pool_size=(2,2), strides=(1,1)):\n",
    "    \n",
    "    N, H, W, C = x.shape\n",
    "    h_p, w_p = pool_size\n",
    "    h_s, w_s = strides\n",
    "    \n",
    "    Hn = 1 + int((H - h_p) / h_s)\n",
    "    Wn = 1 + int((W - w_p) / w_s)\n",
    "    out = np.zeros((N, Hn, Wn, C))\n",
    "    for i in range(Hn):\n",
    "        for j in range(Wn):\n",
    "            out[:, i, j, :] = np.max(x[:, i*h_s:i*h_s+h_p, j*w_s:j*w_s+w_p,:], axis=(1,2))\n",
    "    return out"
   ]
  },
  {
   "cell_type": "code",
   "execution_count": 36,
   "metadata": {},
   "outputs": [],
   "source": [
    "def pool2d(X, pool_size=(2,2), strides=(1,1)):\n",
    "    N, H, W, C = x.shape\n",
    "    h_p, w_p = pool_size\n",
    "    h_s, w_s = strides\n",
    "    Y = tf.zeros((N, (H - p_h + 1)//s_h, (W - p_w + 1)//s_w, C))\n",
    "    Y = tf.Variable(Y)\n",
    "    \n",
    "    for i in tf.range(tf.shape(Y)[1]):\n",
    "        for j in tf.range(tf.shape(Y)[2]):\n",
    "            Y[:,i,j,:].assign(tf.math.reduce_max(X[:,i*s_h:i*s_h+p_h,j*s_w:j*s_w+p_w,:], axis=(1,2),keepdims=False))\n",
    "    return Y"
   ]
  },
  {
   "cell_type": "markdown",
   "metadata": {},
   "source": [
    "# 实战 Quick, Draw! Google涂鸦识别比赛"
   ]
  },
  {
   "cell_type": "markdown",
   "metadata": {},
   "source": [
    "评估指标 Mean Average Precision"
   ]
  },
  {
   "cell_type": "code",
   "execution_count": 37,
   "metadata": {},
   "outputs": [],
   "source": [
    "def apk(actual, predicted, k=10):\n",
    "    if len(predicted)>k:\n",
    "        predicted = predicted[:k]\n",
    "        \n",
    "    score = 0.0\n",
    "    num_hits = 0.0\n",
    "    \n",
    "    for i,p in enumerate(predicted):\n",
    "        if p in actual and p not in predicted[:i]:\n",
    "            num_hits += 1.0\n",
    "            score += num_hits / (i+1.0)\n",
    "    \n",
    "    if not actual:\n",
    "        return 0.0\n",
    "    return score / min(len(actual), k)"
   ]
  },
  {
   "cell_type": "code",
   "execution_count": null,
   "metadata": {},
   "outputs": [],
   "source": []
  }
 ],
 "metadata": {
  "kernelspec": {
   "display_name": "tensorflow2py37",
   "language": "python",
   "name": "tensorflow2py37"
  },
  "language_info": {
   "codemirror_mode": {
    "name": "ipython",
    "version": 3
   },
   "file_extension": ".py",
   "mimetype": "text/x-python",
   "name": "python",
   "nbconvert_exporter": "python",
   "pygments_lexer": "ipython3",
   "version": "3.7.7"
  }
 },
 "nbformat": 4,
 "nbformat_minor": 4
}
