{
 "cells": [
  {
   "cell_type": "code",
   "execution_count": 3,
   "metadata": {},
   "outputs": [
    {
     "name": "stdout",
     "output_type": "stream",
     "text": [
      "2.2.0\n"
     ]
    }
   ],
   "source": [
    "import tensorflow as tf\n",
    "print(tf.__version__)"
   ]
  },
  {
   "cell_type": "code",
   "execution_count": 2,
   "metadata": {},
   "outputs": [
    {
     "name": "stdout",
     "output_type": "stream",
     "text": [
      "WARNING:tensorflow:From <ipython-input-2-ae932be897c3>:1: is_gpu_available (from tensorflow.python.framework.test_util) is deprecated and will be removed in a future version.\n",
      "Instructions for updating:\n",
      "Use `tf.config.list_physical_devices('GPU')` instead.\n",
      "False\n"
     ]
    }
   ],
   "source": [
    "print(tf.test.is_gpu_available())"
   ]
  },
  {
   "cell_type": "markdown",
   "metadata": {},
   "source": [
    "# 张量"
   ]
  },
  {
   "cell_type": "code",
   "execution_count": 4,
   "metadata": {},
   "outputs": [
    {
     "name": "stdout",
     "output_type": "stream",
     "text": [
      "0\n",
      "[]\n"
     ]
    }
   ],
   "source": [
    "# Rank 0\n",
    "mammal=tf.Variable(\"Elephant\", tf.string)\n",
    "tf.print(tf.rank(mammal))\n",
    "tf.print(tf.shape(mammal))"
   ]
  },
  {
   "cell_type": "code",
   "execution_count": 5,
   "metadata": {},
   "outputs": [
    {
     "name": "stdout",
     "output_type": "stream",
     "text": [
      "tf.Tensor(0, shape=(), dtype=int32)\n"
     ]
    }
   ],
   "source": [
    "print(tf.rank(mammal))"
   ]
  },
  {
   "cell_type": "code",
   "execution_count": 6,
   "metadata": {},
   "outputs": [
    {
     "name": "stdout",
     "output_type": "stream",
     "text": [
      "1\n",
      "[1]\n"
     ]
    }
   ],
   "source": [
    "# Rank 1\n",
    "mystr=tf.Variable([\"Hello\"], tf.string)\n",
    "tf.print(tf.rank(mystr))\n",
    "tf.print(tf.shape(mystr))"
   ]
  },
  {
   "cell_type": "code",
   "execution_count": 7,
   "metadata": {},
   "outputs": [
    {
     "name": "stdout",
     "output_type": "stream",
     "text": [
      "2\n",
      "[2 1]\n"
     ]
    }
   ],
   "source": [
    "# Rank 2\n",
    "mymat = tf.Variable([[7],[11]], tf.int16)\n",
    "tf.print(tf.rank(mymat))\n",
    "tf.print(tf.shape(mymat))"
   ]
  },
  {
   "cell_type": "markdown",
   "metadata": {},
   "source": [
    "### 创建张量"
   ]
  },
  {
   "cell_type": "code",
   "execution_count": 8,
   "metadata": {},
   "outputs": [
    {
     "data": {
      "text/plain": [
       "<tf.Tensor: shape=(3,), dtype=int16, numpy=array([1, 2, 3], dtype=int16)>"
      ]
     },
     "execution_count": 8,
     "metadata": {},
     "output_type": "execute_result"
    }
   ],
   "source": [
    "tf.constant([1,2,3],dtype=tf.int16)"
   ]
  },
  {
   "cell_type": "markdown",
   "metadata": {},
   "source": [
    "* tf.strings\n",
    "* tf.debugging\n",
    "* tf.dtypes\n",
    "* tf.math\n",
    "* tf.random\n",
    "* tf.feature_column"
   ]
  },
  {
   "cell_type": "markdown",
   "metadata": {},
   "source": [
    "https://www.tensorflow.org/tutorials/structured_data/feature_columns"
   ]
  },
  {
   "cell_type": "code",
   "execution_count": 9,
   "metadata": {},
   "outputs": [
    {
     "data": {
      "text/plain": [
       "<tf.Tensor: shape=(5,), dtype=string, numpy=array([b'h', b'e', b'l', b'l', b'o'], dtype=object)>"
      ]
     },
     "execution_count": 9,
     "metadata": {},
     "output_type": "execute_result"
    }
   ],
   "source": [
    "tf.strings.bytes_split('hello')"
   ]
  },
  {
   "cell_type": "code",
   "execution_count": 10,
   "metadata": {},
   "outputs": [
    {
     "data": {
      "text/plain": [
       "<tf.Tensor: shape=(2,), dtype=string, numpy=array([b'hello', b'world'], dtype=object)>"
      ]
     },
     "execution_count": 10,
     "metadata": {},
     "output_type": "execute_result"
    }
   ],
   "source": [
    "tf.strings.split('hello world')"
   ]
  },
  {
   "cell_type": "code",
   "execution_count": 11,
   "metadata": {},
   "outputs": [
    {
     "data": {
      "text/plain": [
       "<tf.Tensor: shape=(2,), dtype=int64, numpy=array([8, 1])>"
      ]
     },
     "execution_count": 11,
     "metadata": {},
     "output_type": "execute_result"
    }
   ],
   "source": [
    "tf.strings.to_hash_bucket(['hello','world'], num_buckets=10)"
   ]
  },
  {
   "cell_type": "code",
   "execution_count": 12,
   "metadata": {},
   "outputs": [],
   "source": [
    "a = tf.random.uniform((10,10))\n",
    "tf.debugging.assert_equal(x=a.shape,y=(10,10))"
   ]
  },
  {
   "cell_type": "code",
   "execution_count": 13,
   "metadata": {},
   "outputs": [
    {
     "ename": "InvalidArgumentError",
     "evalue": "Condition x == y did not hold.\nIndices of first 1 different values:\n[[1]]\nCorresponding x values:\n[10]\nCorresponding y values:\n[11]\nFirst 2 elements of x:\n[10 10]\nFirst 2 elements of y:\n[10 11]",
     "output_type": "error",
     "traceback": [
      "\u001b[0;31m---------------------------------------------------------------------------\u001b[0m",
      "\u001b[0;31mInvalidArgumentError\u001b[0m                      Traceback (most recent call last)",
      "\u001b[0;32m<ipython-input-13-eccce04d3121>\u001b[0m in \u001b[0;36m<module>\u001b[0;34m\u001b[0m\n\u001b[0;32m----> 1\u001b[0;31m \u001b[0mtf\u001b[0m\u001b[0;34m.\u001b[0m\u001b[0mdebugging\u001b[0m\u001b[0;34m.\u001b[0m\u001b[0massert_equal\u001b[0m\u001b[0;34m(\u001b[0m\u001b[0mx\u001b[0m\u001b[0;34m=\u001b[0m\u001b[0ma\u001b[0m\u001b[0;34m.\u001b[0m\u001b[0mshape\u001b[0m\u001b[0;34m,\u001b[0m\u001b[0my\u001b[0m\u001b[0;34m=\u001b[0m\u001b[0;34m(\u001b[0m\u001b[0;36m10\u001b[0m\u001b[0;34m,\u001b[0m\u001b[0;36m11\u001b[0m\u001b[0;34m)\u001b[0m\u001b[0;34m)\u001b[0m\u001b[0;34m\u001b[0m\u001b[0;34m\u001b[0m\u001b[0m\n\u001b[0m",
      "\u001b[0;32m~/venv/tensorflow2py37/lib/python3.7/site-packages/tensorflow/python/ops/check_ops.py\u001b[0m in \u001b[0;36massert_equal_v2\u001b[0;34m(x, y, message, summarize, name)\u001b[0m\n\u001b[1;32m    646\u001b[0m       \u001b[0mexecution\u001b[0m \u001b[0;32mor\u001b[0m \u001b[0;32mif\u001b[0m\u001b[0;31m \u001b[0m\u001b[0;31m`\u001b[0m\u001b[0mx\u001b[0m\u001b[0;31m`\u001b[0m \u001b[0;32mand\u001b[0m\u001b[0;31m \u001b[0m\u001b[0;31m`\u001b[0m\u001b[0my\u001b[0m\u001b[0;31m`\u001b[0m \u001b[0mare\u001b[0m \u001b[0mstatically\u001b[0m \u001b[0mknown\u001b[0m\u001b[0;34m.\u001b[0m\u001b[0;34m\u001b[0m\u001b[0;34m\u001b[0m\u001b[0m\n\u001b[1;32m    647\u001b[0m   \"\"\"\n\u001b[0;32m--> 648\u001b[0;31m   \u001b[0;32mreturn\u001b[0m \u001b[0massert_equal\u001b[0m\u001b[0;34m(\u001b[0m\u001b[0mx\u001b[0m\u001b[0;34m=\u001b[0m\u001b[0mx\u001b[0m\u001b[0;34m,\u001b[0m \u001b[0my\u001b[0m\u001b[0;34m=\u001b[0m\u001b[0my\u001b[0m\u001b[0;34m,\u001b[0m \u001b[0msummarize\u001b[0m\u001b[0;34m=\u001b[0m\u001b[0msummarize\u001b[0m\u001b[0;34m,\u001b[0m \u001b[0mmessage\u001b[0m\u001b[0;34m=\u001b[0m\u001b[0mmessage\u001b[0m\u001b[0;34m,\u001b[0m \u001b[0mname\u001b[0m\u001b[0;34m=\u001b[0m\u001b[0mname\u001b[0m\u001b[0;34m)\u001b[0m\u001b[0;34m\u001b[0m\u001b[0;34m\u001b[0m\u001b[0m\n\u001b[0m\u001b[1;32m    649\u001b[0m \u001b[0;34m\u001b[0m\u001b[0m\n\u001b[1;32m    650\u001b[0m \u001b[0;34m\u001b[0m\u001b[0m\n",
      "\u001b[0;32m~/venv/tensorflow2py37/lib/python3.7/site-packages/tensorflow/python/ops/check_ops.py\u001b[0m in \u001b[0;36massert_equal\u001b[0;34m(x, y, data, summarize, message, name)\u001b[0m\n\u001b[1;32m    657\u001b[0m       \u001b[0;32mreturn\u001b[0m \u001b[0;32mNone\u001b[0m \u001b[0;32mif\u001b[0m \u001b[0mcontext\u001b[0m\u001b[0;34m.\u001b[0m\u001b[0mexecuting_eagerly\u001b[0m\u001b[0;34m(\u001b[0m\u001b[0;34m)\u001b[0m \u001b[0;32melse\u001b[0m \u001b[0mcontrol_flow_ops\u001b[0m\u001b[0;34m.\u001b[0m\u001b[0mno_op\u001b[0m\u001b[0;34m(\u001b[0m\u001b[0;34m)\u001b[0m\u001b[0;34m\u001b[0m\u001b[0;34m\u001b[0m\u001b[0m\n\u001b[1;32m    658\u001b[0m   return _binary_assert('==', 'assert_equal', math_ops.equal, np.equal, x, y,\n\u001b[0;32m--> 659\u001b[0;31m                         data, summarize, message, name)\n\u001b[0m\u001b[1;32m    660\u001b[0m \u001b[0;34m\u001b[0m\u001b[0m\n\u001b[1;32m    661\u001b[0m \u001b[0;34m\u001b[0m\u001b[0m\n",
      "\u001b[0;32m~/venv/tensorflow2py37/lib/python3.7/site-packages/tensorflow/python/ops/check_ops.py\u001b[0m in \u001b[0;36m_binary_assert\u001b[0;34m(sym, opname, op_func, static_func, x, y, data, summarize, message, name)\u001b[0m\n\u001b[1;32m    353\u001b[0m           \u001b[0mnode_def\u001b[0m\u001b[0;34m=\u001b[0m\u001b[0;32mNone\u001b[0m\u001b[0;34m,\u001b[0m\u001b[0;34m\u001b[0m\u001b[0;34m\u001b[0m\u001b[0m\n\u001b[1;32m    354\u001b[0m           \u001b[0mop\u001b[0m\u001b[0;34m=\u001b[0m\u001b[0;32mNone\u001b[0m\u001b[0;34m,\u001b[0m\u001b[0;34m\u001b[0m\u001b[0;34m\u001b[0m\u001b[0m\n\u001b[0;32m--> 355\u001b[0;31m           message=('\\n'.join(_pretty_print(d, summarize) for d in data)))\n\u001b[0m\u001b[1;32m    356\u001b[0m \u001b[0;34m\u001b[0m\u001b[0m\n\u001b[1;32m    357\u001b[0m     \u001b[0;32melse\u001b[0m\u001b[0;34m:\u001b[0m  \u001b[0;31m# not context.executing_eagerly()\u001b[0m\u001b[0;34m\u001b[0m\u001b[0;34m\u001b[0m\u001b[0m\n",
      "\u001b[0;31mInvalidArgumentError\u001b[0m: Condition x == y did not hold.\nIndices of first 1 different values:\n[[1]]\nCorresponding x values:\n[10]\nCorresponding y values:\n[11]\nFirst 2 elements of x:\n[10 10]\nFirst 2 elements of y:\n[10 11]"
     ]
    }
   ],
   "source": [
    "tf.debugging.assert_equal(x=a.shape,y=(10,11))"
   ]
  },
  {
   "cell_type": "code",
   "execution_count": 16,
   "metadata": {},
   "outputs": [
    {
     "data": {
      "text/plain": [
       "<tf.Tensor: shape=(10, 5), dtype=float32, numpy=\n",
       "array([[0.1557672 , 2.2525835 , 8.16264   , 1.686424  , 7.8550234 ],\n",
       "       [9.53514   , 9.0258465 , 0.12324214, 0.69693327, 0.9070194 ],\n",
       "       [3.5409963 , 6.9560566 , 0.53347707, 6.8186245 , 1.5968692 ],\n",
       "       [1.0213435 , 8.323487  , 9.980812  , 1.498003  , 4.164954  ],\n",
       "       [2.2006404 , 4.793543  , 4.801813  , 8.555811  , 3.2682538 ],\n",
       "       [8.869379  , 2.4322116 , 7.0849276 , 9.897023  , 3.4844756 ],\n",
       "       [2.9485476 , 7.231443  , 8.365526  , 0.35217404, 1.9879568 ],\n",
       "       [1.4192426 , 4.7125587 , 3.3494806 , 8.137943  , 9.895683  ],\n",
       "       [7.2306347 , 3.854189  , 3.84071   , 0.8859801 , 6.324477  ],\n",
       "       [4.9630775 , 0.39732456, 4.836247  , 2.4690366 , 8.885965  ]],\n",
       "      dtype=float32)>"
      ]
     },
     "execution_count": 16,
     "metadata": {},
     "output_type": "execute_result"
    }
   ],
   "source": [
    "a = tf.random.uniform(shape=(10,5), minval=0, maxval=10)\n",
    "a"
   ]
  },
  {
   "cell_type": "code",
   "execution_count": 15,
   "metadata": {},
   "outputs": [
    {
     "data": {
      "text/plain": [
       "<tf.Tensor: shape=(10, 5), dtype=float32, numpy=\n",
       "array([[2.92079926e+00, 1.32604313e+01, 1.20524502e+01, 5.24496555e+00,\n",
       "        1.69800568e+01],\n",
       "       [7.52382755e+00, 1.84345245e-02, 1.48055506e+01, 7.25996733e+00,\n",
       "        1.29975052e+01],\n",
       "       [1.93547249e+00, 3.25128555e+00, 7.60039091e+00, 1.32329464e-01,\n",
       "        1.94241333e+01],\n",
       "       [1.02106810e+01, 9.19758606e+00, 1.72485332e+01, 1.18843079e+00,\n",
       "        1.65904808e+01],\n",
       "       [1.82590065e+01, 7.77758598e+00, 1.98067513e+01, 1.88941479e+00,\n",
       "        1.29044342e+01],\n",
       "       [1.60315037e-01, 5.29584885e-01, 1.72188997e+00, 6.70494556e+00,\n",
       "        1.56496048e+00],\n",
       "       [1.69570236e+01, 7.11362600e+00, 8.07301712e+00, 4.18546200e+00,\n",
       "        3.60766411e+00],\n",
       "       [5.47444820e+00, 6.94928885e+00, 1.05107355e+01, 1.56078453e+01,\n",
       "        1.86358032e+01],\n",
       "       [1.34274406e+01, 1.86947327e+01, 7.64301777e+00, 1.06642532e+01,\n",
       "        1.80764008e+01],\n",
       "       [1.60887184e+01, 6.62447453e+00, 5.66275597e+00, 7.22794056e+00,\n",
       "        1.00779991e+01]], dtype=float32)>"
      ]
     },
     "execution_count": 15,
     "metadata": {},
     "output_type": "execute_result"
    }
   ],
   "source": [
    "tf.math.add(a,a)"
   ]
  },
  {
   "cell_type": "code",
   "execution_count": 17,
   "metadata": {},
   "outputs": [
    {
     "data": {
      "text/plain": [
       "<tf.Tensor: shape=(10, 5), dtype=int32, numpy=\n",
       "array([[0, 2, 8, 1, 7],\n",
       "       [9, 9, 0, 0, 0],\n",
       "       [3, 6, 0, 6, 1],\n",
       "       [1, 8, 9, 1, 4],\n",
       "       [2, 4, 4, 8, 3],\n",
       "       [8, 2, 7, 9, 3],\n",
       "       [2, 7, 8, 0, 1],\n",
       "       [1, 4, 3, 8, 9],\n",
       "       [7, 3, 3, 0, 6],\n",
       "       [4, 0, 4, 2, 8]], dtype=int32)>"
      ]
     },
     "execution_count": 17,
     "metadata": {},
     "output_type": "execute_result"
    }
   ],
   "source": [
    "tf.dtypes.cast(a, tf.int32)"
   ]
  },
  {
   "cell_type": "markdown",
   "metadata": {},
   "source": [
    "## 常用层\n",
    "* tf.keras.layers\n",
    "* tf.nn\n"
   ]
  },
  {
   "cell_type": "code",
   "execution_count": 18,
   "metadata": {},
   "outputs": [],
   "source": [
    "a = tf.random.uniform(shape=(10,100,50), minval=-0.5, maxval=0.5)\n",
    "x = tf.keras.layers.LSTM(100)(a)\n",
    "x = tf.keras.layers.Dense(10)(x)\n",
    "x = tf.nn.softmax(x)"
   ]
  },
  {
   "cell_type": "markdown",
   "metadata": {},
   "source": [
    "增加层的参数配置"
   ]
  },
  {
   "cell_type": "code",
   "execution_count": 22,
   "metadata": {},
   "outputs": [
    {
     "data": {
      "text/plain": [
       "<tensorflow.python.keras.layers.core.Dense at 0x13dfe5890>"
      ]
     },
     "execution_count": 22,
     "metadata": {},
     "output_type": "execute_result"
    }
   ],
   "source": [
    "#层中增加激活函数\n",
    "tf.keras.layers.Dense(64, activation='relu')\n",
    "tf.keras.layers.Dense(64, activation=tf.nn.relu)\n",
    "#L1正则应用于内核矩阵\n",
    "tf.keras.layers.Dense(64, kernel_regularizer=tf.keras.regularizers.l1(0.01))\n",
    "#L2正则应用于偏差向量\n",
    "tf.keras.layers.Dense(64, bias_regularizer=tf.keras.regularizers.l1(0.01))\n",
    "#内核初始化为随机正交矩阵的线性层\n",
    "tf.keras.layers.Dense(64, kernel_initializer='orthogonal')\n",
    "#偏差向量初始化为2.0的线性层\n",
    "tf.keras.layers.Dense(64, bias_initializer=tf.keras.initializers.Constant(2.0))"
   ]
  },
  {
   "cell_type": "markdown",
   "metadata": {},
   "source": [
    "# 三种建模方式"
   ]
  },
  {
   "cell_type": "markdown",
   "metadata": {},
   "source": [
    "* Sequential model\n",
    "* Functional model\n",
    "* Subclassing model"
   ]
  },
  {
   "cell_type": "markdown",
   "metadata": {},
   "source": [
    "tf.keras.Sequential"
   ]
  },
  {
   "cell_type": "code",
   "execution_count": 25,
   "metadata": {},
   "outputs": [],
   "source": [
    "from tensorflow.keras import layers\n",
    "\n",
    "model = tf.keras.Sequential()\n",
    "model.add(layers.Dense(64, activation='relu'))"
   ]
  },
  {
   "cell_type": "code",
   "execution_count": 28,
   "metadata": {},
   "outputs": [],
   "source": [
    "model = tf.keras.Sequential([\n",
    "    layers.Dense(64, activation='relu'),\n",
    "    layers.Dense(64, activation='relu'),\n",
    "    layers.Dense(10)\n",
    "])"
   ]
  },
  {
   "cell_type": "code",
   "execution_count": 30,
   "metadata": {},
   "outputs": [],
   "source": [
    "model.compile(optimizer=tf.keras.optimizers.Adam(0.01),\n",
    "             loss=tf.keras.losses.CategoricalCrossentropy(from_logits=True),\n",
    "             metrics=['accuracy'])"
   ]
  },
  {
   "cell_type": "code",
   "execution_count": 31,
   "metadata": {},
   "outputs": [
    {
     "name": "stdout",
     "output_type": "stream",
     "text": [
      "Epoch 1/10\n",
      "32/32 [==============================] - 0s 1ms/step - loss: 44.9186 - accuracy: 0.1060\n",
      "Epoch 2/10\n",
      "32/32 [==============================] - 0s 937us/step - loss: 244.2103 - accuracy: 0.1080\n",
      "Epoch 3/10\n",
      "32/32 [==============================] - 0s 950us/step - loss: 1434.8037 - accuracy: 0.1010\n",
      "Epoch 4/10\n",
      "32/32 [==============================] - 0s 891us/step - loss: 3062.5247 - accuracy: 0.1080\n",
      "Epoch 5/10\n",
      "32/32 [==============================] - 0s 923us/step - loss: 4571.5767 - accuracy: 0.1170\n",
      "Epoch 6/10\n",
      "32/32 [==============================] - 0s 863us/step - loss: 8570.4746 - accuracy: 0.1100\n",
      "Epoch 7/10\n",
      "32/32 [==============================] - 0s 853us/step - loss: 13375.3154 - accuracy: 0.0920\n",
      "Epoch 8/10\n",
      "32/32 [==============================] - 0s 884us/step - loss: 22187.5176 - accuracy: 0.0840\n",
      "Epoch 9/10\n",
      "32/32 [==============================] - 0s 868us/step - loss: 25929.4355 - accuracy: 0.0970\n",
      "Epoch 10/10\n",
      "32/32 [==============================] - 0s 927us/step - loss: 27801.5332 - accuracy: 0.0950\n"
     ]
    },
    {
     "data": {
      "text/plain": [
       "<tensorflow.python.keras.callbacks.History at 0x13d7b4fd0>"
      ]
     },
     "execution_count": 31,
     "metadata": {},
     "output_type": "execute_result"
    }
   ],
   "source": [
    "import numpy as np\n",
    "data = np.random.random((1000, 32))\n",
    "labels = np.random.random((1000, 10))\n",
    "\n",
    "model.fit(data, labels, epochs=10, batch_size=32)"
   ]
  },
  {
   "cell_type": "markdown",
   "metadata": {},
   "source": [
    "Functional model"
   ]
  },
  {
   "cell_type": "code",
   "execution_count": 34,
   "metadata": {},
   "outputs": [],
   "source": [
    "inputs = tf.keras.Input(shape=(32,))\n",
    "x = layers.Dense(64, activation='relu')(inputs)\n",
    "x = layers.Dense(64, activation='relu')(x)\n",
    "predictions = layers.Dense(10)(x)"
   ]
  },
  {
   "cell_type": "code",
   "execution_count": 35,
   "metadata": {},
   "outputs": [
    {
     "name": "stdout",
     "output_type": "stream",
     "text": [
      "Epoch 1/10\n",
      "32/32 [==============================] - 0s 1ms/step - loss: 12.6128 - accuracy: 0.1090\n",
      "Epoch 2/10\n",
      "32/32 [==============================] - 0s 1ms/step - loss: 18.0559 - accuracy: 0.1110\n",
      "Epoch 3/10\n",
      "32/32 [==============================] - 0s 1ms/step - loss: 29.9134 - accuracy: 0.1030\n",
      "Epoch 4/10\n",
      "32/32 [==============================] - 0s 886us/step - loss: 47.9776 - accuracy: 0.0980\n",
      "Epoch 5/10\n",
      "32/32 [==============================] - 0s 858us/step - loss: 70.1486 - accuracy: 0.1120\n",
      "Epoch 6/10\n",
      "32/32 [==============================] - 0s 816us/step - loss: 93.4897 - accuracy: 0.0990\n",
      "Epoch 7/10\n",
      "32/32 [==============================] - 0s 871us/step - loss: 109.0365 - accuracy: 0.1060\n",
      "Epoch 8/10\n",
      "32/32 [==============================] - 0s 839us/step - loss: 107.1740 - accuracy: 0.0920\n",
      "Epoch 9/10\n",
      "32/32 [==============================] - 0s 882us/step - loss: 111.2587 - accuracy: 0.1070\n",
      "Epoch 10/10\n",
      "32/32 [==============================] - 0s 884us/step - loss: 124.8696 - accuracy: 0.1160\n"
     ]
    },
    {
     "data": {
      "text/plain": [
       "<tensorflow.python.keras.callbacks.History at 0x13dd583d0>"
      ]
     },
     "execution_count": 35,
     "metadata": {},
     "output_type": "execute_result"
    }
   ],
   "source": [
    "model = tf.keras.Model(inputs=inputs, outputs=predictions)\n",
    "model.compile(optimizer=tf.keras.optimizers.RMSprop(0.001),\n",
    "             loss=tf.keras.losses.CategoricalCrossentropy(from_logits=True),\n",
    "             metrics=['accuracy'])\n",
    "\n",
    "model.fit(data, labels, epochs=10, batch_size=32)"
   ]
  },
  {
   "cell_type": "code",
   "execution_count": 36,
   "metadata": {},
   "outputs": [],
   "source": [
    "inputs1 = tf.keras.Input(shape=(32,))\n",
    "inputs2 = tf.keras.Input(shape=(32,))\n",
    "x1 = layers.Dense(64, activation='relu')(inputs1)\n",
    "x2 = layers.Dense(64, activation='relu')(inputs2)\n",
    "x = tf.concat([x1,x2], axis=-1)\n",
    "x = layers.Dense(64, activation='relu')(x)\n",
    "predictions = layers.Dense(10)(x)"
   ]
  },
  {
   "cell_type": "code",
   "execution_count": 39,
   "metadata": {},
   "outputs": [
    {
     "name": "stdout",
     "output_type": "stream",
     "text": [
      "Epoch 1/5\n",
      "32/32 [==============================] - 0s 1ms/step - loss: 17.0394 - accuracy: 0.1080\n",
      "Epoch 2/5\n",
      "32/32 [==============================] - 0s 1ms/step - loss: 34.5748 - accuracy: 0.1150\n",
      "Epoch 3/5\n",
      "32/32 [==============================] - 0s 1ms/step - loss: 61.6542 - accuracy: 0.0900\n",
      "Epoch 4/5\n",
      "32/32 [==============================] - 0s 1ms/step - loss: 85.2308 - accuracy: 0.1020\n",
      "Epoch 5/5\n",
      "32/32 [==============================] - 0s 983us/step - loss: 110.2317 - accuracy: 0.1060\n"
     ]
    },
    {
     "data": {
      "text/plain": [
       "<tensorflow.python.keras.callbacks.History at 0x13e8a10d0>"
      ]
     },
     "execution_count": 39,
     "metadata": {},
     "output_type": "execute_result"
    }
   ],
   "source": [
    "model = tf.keras.Model(inputs=[inputs1, inputs2], outputs=predictions)\n",
    "\n",
    "model.compile(optimizer=tf.keras.optimizers.RMSprop(0.001),\n",
    "             loss=tf.keras.losses.CategoricalCrossentropy(from_logits=True),\n",
    "             metrics=['accuracy'])\n",
    "\n",
    "import numpy as np\n",
    "data1 = np.random.random((1000, 32))\n",
    "data2 = np.random.random((1000, 32))\n",
    "labels = np.random.random((1000, 10))\n",
    "model.fit((data1,data2), labels, batch_size=32, epochs=5)"
   ]
  },
  {
   "cell_type": "markdown",
   "metadata": {},
   "source": [
    "## 子类化"
   ]
  },
  {
   "cell_type": "code",
   "execution_count": 40,
   "metadata": {},
   "outputs": [],
   "source": [
    "class MyModel(tf.keras.Model):\n",
    "    def __init__(self, num_classes=10):\n",
    "        super(MyModel, self).__init__(name='my_model')\n",
    "        self.num_classes = num_classes\n",
    "        self.dense_1 = layers.Dense(32, activation='relu')\n",
    "        self.dense_2 = layers.Dense(num_classes)\n",
    "        \n",
    "    def call(self, inputs):\n",
    "        # define forward propagation\n",
    "        x = self.dense_1(inputs)\n",
    "        return self.dense_2(x)"
   ]
  },
  {
   "cell_type": "code",
   "execution_count": 41,
   "metadata": {},
   "outputs": [
    {
     "name": "stdout",
     "output_type": "stream",
     "text": [
      "Epoch 1/5\n",
      "32/32 [==============================] - 0s 859us/step - loss: 13.1753 - accuracy: 0.0990\n",
      "Epoch 2/5\n",
      "32/32 [==============================] - 0s 924us/step - loss: 16.2055 - accuracy: 0.1110\n",
      "Epoch 3/5\n",
      "32/32 [==============================] - 0s 1ms/step - loss: 19.4920 - accuracy: 0.1250\n",
      "Epoch 4/5\n",
      "32/32 [==============================] - 0s 1ms/step - loss: 22.5090 - accuracy: 0.1140\n",
      "Epoch 5/5\n",
      "32/32 [==============================] - 0s 1ms/step - loss: 25.5026 - accuracy: 0.1110\n"
     ]
    },
    {
     "data": {
      "text/plain": [
       "<tensorflow.python.keras.callbacks.History at 0x13e7a70d0>"
      ]
     },
     "execution_count": 41,
     "metadata": {},
     "output_type": "execute_result"
    }
   ],
   "source": [
    "model = MyModel(num_classes=10)\n",
    "\n",
    "model.compile(optimizer=tf.keras.optimizers.RMSprop(0.001),\n",
    "             loss=tf.keras.losses.CategoricalCrossentropy(from_logits=True),\n",
    "             metrics=['accuracy'])\n",
    "\n",
    "import numpy as np\n",
    "data = np.random.random((1000, 32))\n",
    "labels = np.random.random((1000, 10))\n",
    "model.fit(data, labels, batch_size=32, epochs=5)"
   ]
  },
  {
   "cell_type": "code",
   "execution_count": null,
   "metadata": {},
   "outputs": [],
   "source": []
  }
 ],
 "metadata": {
  "kernelspec": {
   "display_name": "tensorflow2py37",
   "language": "python",
   "name": "tensorflow2py37"
  },
  "language_info": {
   "codemirror_mode": {
    "name": "ipython",
    "version": 3
   },
   "file_extension": ".py",
   "mimetype": "text/x-python",
   "name": "python",
   "nbconvert_exporter": "python",
   "pygments_lexer": "ipython3",
   "version": "3.7.7"
  }
 },
 "nbformat": 4,
 "nbformat_minor": 4
}
