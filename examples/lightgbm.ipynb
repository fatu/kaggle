{
 "cells": [
  {
   "cell_type": "markdown",
   "metadata": {},
   "source": [
    "## LightGBM应用"
   ]
  },
  {
   "cell_type": "code",
   "execution_count": 1,
   "metadata": {},
   "outputs": [],
   "source": [
    "import datetime\n",
    "import numpy as np\n",
    "import pandas as pd\n",
    "import lightgbm as lgb\n",
    "from sklearn.datasets import load_breast_cancer\n",
    "from sklearn.model_selection import train_test_split\n",
    "from sklearn.metrics import accuracy_score\n",
    "import matplotlib.pyplot as plt\n",
    "%matplotlib inline"
   ]
  },
  {
   "cell_type": "code",
   "execution_count": 2,
   "metadata": {},
   "outputs": [],
   "source": [
    "# 加载数据集\n",
    "breast = load_breast_cancer()\n",
    "# 获取特征值和目标指\n",
    "X,y = breast.data,breast.target\n",
    "# 获取特征名称\n",
    "feature_name = breast.feature_names"
   ]
  },
  {
   "cell_type": "code",
   "execution_count": 3,
   "metadata": {},
   "outputs": [],
   "source": [
    "# 数据集划分\n",
    "X_train, X_test, y_train, y_test = train_test_split(X, y, test_size=0.2, random_state=0)"
   ]
  },
  {
   "cell_type": "code",
   "execution_count": 4,
   "metadata": {},
   "outputs": [],
   "source": [
    "# 数据格式转换\n",
    "lgb_train = lgb.Dataset(X_train, y_train)\n",
    "lgb_eval = lgb.Dataset(X_test, y_test, reference=lgb_train)"
   ]
  },
  {
   "cell_type": "code",
   "execution_count": 5,
   "metadata": {},
   "outputs": [],
   "source": [
    "# 参数设置\n",
    "boost_round = 50 # 迭代次数              \n",
    "early_stop_rounds = 10 # 验证数据若在early_stop_rounds轮中未提高，则提前停止\n",
    "\n",
    "params = {\n",
    "    'boosting_type': 'gbdt',  # 设置提升类型\n",
    "    'objective': 'regression',  # 目标函数\n",
    "    'metric': {'l2', 'auc'},  # 评估函数\n",
    "    'num_leaves': 31,  # 叶子节点数\n",
    "    'learning_rate': 0.05,  # 学习速率\n",
    "    'feature_fraction': 0.9,  # 建树的特征选择比例\n",
    "    'bagging_fraction': 0.8,  # 建树的样本采样比例\n",
    "    'bagging_freq': 5,  # k 意味着每 k 次迭代执行bagging\n",
    "    'verbose': 1  # <0 显示致命的, =0 显示错误 (警告), >0 显示信息\n",
    "}"
   ]
  },
  {
   "cell_type": "code",
   "execution_count": 6,
   "metadata": {},
   "outputs": [
    {
     "name": "stdout",
     "output_type": "stream",
     "text": [
      "[1]\ttrain's auc: 0.98371\ttrain's l2: 0.212923\tvalidate's auc: 0.977136\tvalidate's l2: 0.225633\n",
      "Training until validation scores don't improve for 10 rounds\n",
      "[2]\ttrain's auc: 0.986656\ttrain's l2: 0.196528\tvalidate's auc: 0.987298\tvalidate's l2: 0.208179\n",
      "[3]\ttrain's auc: 0.991202\ttrain's l2: 0.181997\tvalidate's auc: 0.992061\tvalidate's l2: 0.193176\n",
      "[4]\ttrain's auc: 0.990355\ttrain's l2: 0.168489\tvalidate's auc: 0.993966\tvalidate's l2: 0.178797\n",
      "[5]\ttrain's auc: 0.990199\ttrain's l2: 0.156395\tvalidate's auc: 0.993331\tvalidate's l2: 0.166016\n",
      "[6]\ttrain's auc: 0.992111\ttrain's l2: 0.145357\tvalidate's auc: 0.993649\tvalidate's l2: 0.15471\n",
      "[7]\ttrain's auc: 0.99419\ttrain's l2: 0.134451\tvalidate's auc: 0.995713\tvalidate's l2: 0.142437\n",
      "[8]\ttrain's auc: 0.994378\ttrain's l2: 0.124897\tvalidate's auc: 0.99603\tvalidate's l2: 0.132029\n",
      "[9]\ttrain's auc: 0.99396\ttrain's l2: 0.11629\tvalidate's auc: 0.996348\tvalidate's l2: 0.122358\n",
      "[10]\ttrain's auc: 0.994253\ttrain's l2: 0.108488\tvalidate's auc: 0.996666\tvalidate's l2: 0.11377\n",
      "[11]\ttrain's auc: 0.994943\ttrain's l2: 0.101493\tvalidate's auc: 0.995554\tvalidate's l2: 0.10658\n",
      "[12]\ttrain's auc: 0.995319\ttrain's l2: 0.0951709\tvalidate's auc: 0.995237\tvalidate's l2: 0.0998285\n",
      "[13]\ttrain's auc: 0.995444\ttrain's l2: 0.0893065\tvalidate's auc: 0.995237\tvalidate's l2: 0.0935616\n",
      "[14]\ttrain's auc: 0.995256\ttrain's l2: 0.0839517\tvalidate's auc: 0.995554\tvalidate's l2: 0.0876074\n",
      "[15]\ttrain's auc: 0.995486\ttrain's l2: 0.0792354\tvalidate's auc: 0.995237\tvalidate's l2: 0.0825428\n",
      "[16]\ttrain's auc: 0.99559\ttrain's l2: 0.0747462\tvalidate's auc: 0.995554\tvalidate's l2: 0.0776822\n",
      "[17]\ttrain's auc: 0.995883\ttrain's l2: 0.0706676\tvalidate's auc: 0.995554\tvalidate's l2: 0.0733718\n",
      "[18]\ttrain's auc: 0.996113\ttrain's l2: 0.0663648\tvalidate's auc: 0.995554\tvalidate's l2: 0.0695148\n",
      "[19]\ttrain's auc: 0.996301\ttrain's l2: 0.0624946\tvalidate's auc: 0.995872\tvalidate's l2: 0.0659711\n",
      "[20]\ttrain's auc: 0.996426\ttrain's l2: 0.0593803\tvalidate's auc: 0.995237\tvalidate's l2: 0.0628605\n",
      "Early stopping, best iteration is:\n",
      "[10]\ttrain's auc: 0.994253\ttrain's l2: 0.108488\tvalidate's auc: 0.996666\tvalidate's l2: 0.11377\n"
     ]
    }
   ],
   "source": [
    "# 模型训练:加入提前停止的功能\n",
    "results = {}\n",
    "gbm = lgb.train(params,\n",
    "                lgb_train,\n",
    "                num_boost_round= boost_round,\n",
    "                valid_sets=(lgb_eval, lgb_train),\n",
    "                valid_names=('validate','train'),\n",
    "                early_stopping_rounds = early_stop_rounds,\n",
    "                evals_result= results)"
   ]
  },
  {
   "cell_type": "code",
   "execution_count": 7,
   "metadata": {},
   "outputs": [
    {
     "data": {
      "text/plain": [
       "array([0.47667033, 0.71765919, 0.78008311, 0.78218089, 0.77464283,\n",
       "       0.78361947, 0.7363839 , 0.78348696, 0.76587979, 0.78153982,\n",
       "       0.69750086, 0.74346082, 0.78220069, 0.50560155, 0.68333607,\n",
       "       0.42582199, 0.77283209, 0.3790628 , 0.38329039, 0.38314727,\n",
       "       0.42888551, 0.38879762, 0.76841939, 0.77598851, 0.41389426,\n",
       "       0.78487704, 0.78140964, 0.49410626, 0.78487704, 0.38085601,\n",
       "       0.77270264, 0.41389426, 0.76400592, 0.4662295 , 0.78105148,\n",
       "       0.46174716, 0.77597846, 0.47010583, 0.79817673, 0.38831078,\n",
       "       0.59362945, 0.78446138, 0.50560155, 0.77213112, 0.5547406 ,\n",
       "       0.38318047, 0.78134479, 0.7518956 , 0.7814846 , 0.39086403,\n",
       "       0.38329039, 0.42611125, 0.43259992, 0.78313035, 0.78056681,\n",
       "       0.78352387, 0.7518132 , 0.76587979, 0.75924622, 0.38090643,\n",
       "       0.49725109, 0.3718826 , 0.77962488, 0.78297714, 0.38322716,\n",
       "       0.70222126, 0.38121845, 0.38149471, 0.38533052, 0.76821859,\n",
       "       0.62409559, 0.38089414, 0.77640719, 0.65813902, 0.41389426,\n",
       "       0.73084209, 0.77895748, 0.7340478 , 0.77236242, 0.78273613,\n",
       "       0.45076439, 0.38314727, 0.37900724, 0.76565535, 0.42586783,\n",
       "       0.77793689, 0.77624139, 0.78319674, 0.38364626, 0.381127  ,\n",
       "       0.78310526, 0.54476169, 0.61854868, 0.37775602, 0.76565811,\n",
       "       0.77138091, 0.38278775, 0.57664412, 0.78328836, 0.77448911,\n",
       "       0.7857576 , 0.77144425, 0.78952483, 0.72504555, 0.39110229,\n",
       "       0.78633794, 0.38112884, 0.77930832, 0.52174562, 0.48342087,\n",
       "       0.78474432, 0.38002287, 0.3765975 , 0.66802733])"
      ]
     },
     "execution_count": 7,
     "metadata": {},
     "output_type": "execute_result"
    }
   ],
   "source": [
    "# 模型预测\n",
    "y_pred = gbm.predict(X_test, num_iteration=gbm.best_iteration)\n",
    "y_pred"
   ]
  },
  {
   "cell_type": "code",
   "execution_count": 8,
   "metadata": {},
   "outputs": [
    {
     "name": "stderr",
     "output_type": "stream",
     "text": [
      "/usr/local/lib/python3.7/site-packages/ipykernel_launcher.py:2: UserWarning: more than one metric available, picking one to plot.\n",
      "  \n"
     ]
    },
    {
     "data": {
      "image/png": "[encoded data removed]",
      "text/plain": [
       "<Figure size 432x288 with 1 Axes>"
      ]
     },
     "metadata": {
      "needs_background": "light"
     },
     "output_type": "display_data"
    }
   ],
   "source": [
    "# 模型评估\n",
    "lgb.plot_metric(results)\n",
    "plt.show()"
   ]
  },
  {
   "cell_type": "code",
   "execution_count": 9,
   "metadata": {},
   "outputs": [
    {
     "data": {
      "image/png": "[encoded data removed]",
      "text/plain": [
       "<Figure size 432x288 with 1 Axes>"
      ]
     },
     "metadata": {
      "needs_background": "light"
     },
     "output_type": "display_data"
    }
   ],
   "source": [
    "# 绘制重要的特征\n",
    "lgb.plot_importance(gbm,importance_type = \"split\")\n",
    "plt.show()"
   ]
  },
  {
   "cell_type": "code",
   "execution_count": null,
   "metadata": {},
   "outputs": [],
   "source": []
  }
 ],
 "metadata": {
  "kernelspec": {
   "display_name": "kaggle",
   "language": "python",
   "name": "kaggle"
  },
  "language_info": {
   "codemirror_mode": {
    "name": "ipython",
    "version": 3
   },
   "file_extension": ".py",
   "mimetype": "text/x-python",
   "name": "python",
   "nbconvert_exporter": "python",
   "pygments_lexer": "ipython3",
   "version": "3.7.7"
  }
 },
 "nbformat": 4,
 "nbformat_minor": 4
}
