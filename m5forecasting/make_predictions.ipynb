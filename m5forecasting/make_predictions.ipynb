{
 "cells": [
  {
   "cell_type": "code",
   "execution_count": 1,
   "metadata": {
    "ExecuteTime": {
     "end_time": "2020-01-17T01:36:35.191642Z",
     "start_time": "2020-01-17T01:36:34.698312Z"
    },
    "collapsed": true,
    "jupyter": {
     "outputs_hidden": true
    }
   },
   "outputs": [],
   "source": [
    "import pandas as pd\n",
    "import numpy as np\n",
    "import pickle\n",
    "import catboost as catb\n",
    "\n",
    "with open('/home/hchase/shared_data/data/venri/harrison_tmp/categories.pkl', 'rb') as f:\n",
    "        categories = pickle.load(f)\n",
    "\n",
    "def get_map(df):\n",
    "    mapper = {}\n",
    "    for k in categories:\n",
    "        if k in df.columns:\n",
    "            counts = dict(df[k].astype(str).value_counts())\n",
    "            mapper[k] = counts\n",
    "    return mapper\n",
    "    \n",
    "def label_encode_df(df, mapper):\n",
    "    for k in categories:\n",
    "        if k in df.columns:\n",
    "            df[k] = df[k].apply(mapper[k].get)\n",
    "    df[df == 'NO_DATA'] = np.nan\n",
    "    return df\n",
    "\n",
    "with open('/home/hchase/header2184_8.encode') as f:\n",
    "    headers = f.read().split('\\x07')\n",
    "\n",
    "def load_file(filename, columns, col_names):\n",
    "    df = pd.read_csv(filename, usecols=columns,sep='\\a', header=None)\n",
    "    col_names = col_names or headers\n",
    "    df.columns = col_names\n",
    "    return df\n",
    "\n",
    "def get_X_df(df):\n",
    "    return df[[c for c in df.columns if c.startswith('v')]]\n",
    "\n",
    "def get_X_y(df):\n",
    "    return get_X_df(df), df['tag']\n",
    "\n",
    "def load_file_downsampled(filename, ratio, usecols=None, nrows=None, skiprows=None):\n",
    "    if ratio is not None:\n",
    "        small_test = pd.read_csv(\n",
    "            filename,\n",
    "            sep='\\a',\n",
    "            usecols=['tag'],\n",
    "            nrows=nrows,\n",
    "        )\n",
    "        print('loaded all tags')\n",
    "        neg_ind_list = list(small_test[small_test['tag'] == 0].index + 1)\n",
    "        pos_egs = small_test['tag'].sum()\n",
    "        np.random.shuffle(neg_ind_list)\n",
    "        skip_inds = neg_ind_list[pos_egs*ratio:]\n",
    "        nrows = nrows - len(skip_inds)\n",
    "        print(len(skip_inds))\n",
    "    else:\n",
    "        skip_inds = skiprows\n",
    "    return pd.read_csv(\n",
    "        filename,\n",
    "        header=0,\n",
    "        sep='\\a',\n",
    "        skiprows=skip_inds,\n",
    "        usecols=usecols,\n",
    "        nrows=nrows,\n",
    "    )\n",
    "    "
   ]
  },
  {
   "cell_type": "code",
   "execution_count": 2,
   "metadata": {
    "ExecuteTime": {
     "end_time": "2020-01-17T01:36:35.485576Z",
     "start_time": "2020-01-17T01:36:35.483901Z"
    },
    "collapsed": true,
    "jupyter": {
     "outputs_hidden": true
    }
   },
   "outputs": [],
   "source": [
    "all_train_file = '/home/hchase/shared_data/data/venri/training_set/all_test_oot'\n",
    "save_path = '/home/hchase/shared_data/data/venri/harrison_tmp/harrison_preds_by_model_1_16.csv'"
   ]
  },
  {
   "cell_type": "code",
   "execution_count": 3,
   "metadata": {
    "ExecuteTime": {
     "end_time": "2020-01-17T01:36:36.253737Z",
     "start_time": "2020-01-17T01:36:36.251666Z"
    },
    "collapsed": true,
    "jupyter": {
     "outputs_hidden": true
    }
   },
   "outputs": [],
   "source": [
    "headers_test = [col for col in headers if col not in {'cc_control', 'tag', 'brm_bad_tag_assigned'}]"
   ]
  },
  {
   "cell_type": "code",
   "execution_count": 79,
   "metadata": {
    "ExecuteTime": {
     "end_time": "2019-12-26T02:15:05.836786Z",
     "start_time": "2019-12-26T02:13:09.215930Z"
    }
   },
   "outputs": [
    {
     "name": "stdout",
     "output_type": "stream",
     "text": [
      "7760698\n"
     ]
    }
   ],
   "source": [
    "!cat /home/hchase/shared_data/data/venri/training_set/all_test_oot  | wc -l"
   ]
  },
  {
   "cell_type": "code",
   "execution_count": 4,
   "metadata": {
    "ExecuteTime": {
     "end_time": "2020-01-17T01:36:37.756782Z",
     "start_time": "2020-01-17T01:36:37.754170Z"
    },
    "collapsed": true,
    "jupyter": {
     "outputs_hidden": true
    }
   },
   "outputs": [],
   "source": [
    "def logit(p):\n",
    "    return np.log(p/(1-p))\n",
    "def get_ps(mod, X):\n",
    "    y_preds = mod.predict_proba(X)\n",
    "    return [p[1] for p in y_preds]"
   ]
  },
  {
   "cell_type": "code",
   "execution_count": 5,
   "metadata": {
    "ExecuteTime": {
     "end_time": "2020-01-17T01:36:40.708446Z",
     "start_time": "2020-01-17T01:36:40.705936Z"
    },
    "collapsed": true,
    "jupyter": {
     "outputs_hidden": true
    }
   },
   "outputs": [],
   "source": [
    "models_to_run = [\n",
    "    '6m_all_1st_weighted_log_tag.md', \n",
    "    '6m_all_2nd_weighted_log_tag.md',\n",
    "    '6m_all_3rd_weighted_log_tag.md', \n",
    "    '6m_all_4th_weighted_log_tag.md',\n",
    "    '12m_feats_4_2nd_weighted_log_tag.md',\n",
    "    '12m_feats_4_weighted_log_tag.md',\n",
    "    'all_all_weighted_log_tag_downsampled_2_num2.md',\n",
    "    'all_all_weighted_log_tag_downsampled_2.md',\n",
    "    '24m_feats_4_weighted_log_tag.md',\n",
    "    '6m_feats_4_weighted_log_tag_iterative_29_3.md',\n",
    "    '12m_all_1st_weighted_log_tag.md', \n",
    "    '12m_all.md', \n",
    "    '6m_all.md',\n",
    "    '6m_all_2nd.md',\n",
    "    '6m_feats_4_1st_weighted_log_mult_tag_hard_classes_only.md',\n",
    "    '12m_feats_4_1st_weighted_log_tag_multiclass.md',\n",
    "    '12m_feats_4_2nd_weighted_log_tag_multiclass.md',\n",
    "    '12m_feats_4_2nd_weighted_log_tag_everyclass.md',\n",
    "    '24m_feats_4_weighted_log_tag_multi.md',\n",
    "    '12m_all_weighted_log_tag_multi.md',\n",
    "]"
   ]
  },
  {
   "cell_type": "code",
   "execution_count": 7,
   "metadata": {
    "ExecuteTime": {
     "end_time": "2020-01-17T04:20:17.370445Z",
     "start_time": "2020-01-17T01:52:52.962547Z"
    },
    "scrolled": true
   },
   "outputs": [
    {
     "name": "stdout",
     "output_type": "stream",
     "text": [
      "0\n",
      "6m_all_1st_weighted_log_tag.md\n",
      "6m_all_2nd_weighted_log_tag.md\n",
      "6m_all_3rd_weighted_log_tag.md\n",
      "6m_all_4th_weighted_log_tag.md\n",
      "12m_feats_4_2nd_weighted_log_tag.md\n",
      "12m_feats_4_weighted_log_tag.md\n",
      "all_all_weighted_log_tag_downsampled_2_num2.md\n",
      "all_all_weighted_log_tag_downsampled_2.md\n",
      "24m_feats_4_weighted_log_tag.md\n",
      "6m_feats_4_weighted_log_tag_iterative_29_3.md\n",
      "12m_all_1st_weighted_log_tag.md\n",
      "12m_all.md\n",
      "6m_all.md\n",
      "6m_all_2nd.md\n",
      "6m_feats_4_1st_weighted_log_mult_tag_hard_classes_only.md\n",
      "12m_feats_4_1st_weighted_log_tag_multiclass.md\n",
      "12m_feats_4_2nd_weighted_log_tag_multiclass.md\n",
      "12m_feats_4_2nd_weighted_log_tag_everyclass.md\n",
      "24m_feats_4_weighted_log_tag_multi.md\n",
      "12m_all_weighted_log_tag_multi.md\n",
      "1\n"
     ]
    },
    {
     "name": "stderr",
     "output_type": "stream",
     "text": [
      "/opt/conda/lib/python3.6/site-packages/IPython/core/interactiveshell.py:3058: DtypeWarning: Columns (853,1258,1265) have mixed types. Specify dtype option on import or set low_memory=False.\n",
      "  interactivity=interactivity, compiler=compiler, result=result)\n"
     ]
    },
    {
     "name": "stdout",
     "output_type": "stream",
     "text": [
      "6m_all_1st_weighted_log_tag.md\n",
      "6m_all_2nd_weighted_log_tag.md\n",
      "6m_all_3rd_weighted_log_tag.md\n",
      "6m_all_4th_weighted_log_tag.md\n",
      "12m_feats_4_2nd_weighted_log_tag.md\n",
      "12m_feats_4_weighted_log_tag.md\n",
      "all_all_weighted_log_tag_downsampled_2_num2.md\n",
      "all_all_weighted_log_tag_downsampled_2.md\n",
      "24m_feats_4_weighted_log_tag.md\n",
      "6m_feats_4_weighted_log_tag_iterative_29_3.md\n",
      "12m_all_1st_weighted_log_tag.md\n",
      "12m_all.md\n",
      "6m_all.md\n",
      "6m_all_2nd.md\n",
      "6m_feats_4_1st_weighted_log_mult_tag_hard_classes_only.md\n",
      "12m_feats_4_1st_weighted_log_tag_multiclass.md\n",
      "12m_feats_4_2nd_weighted_log_tag_multiclass.md\n",
      "12m_feats_4_2nd_weighted_log_tag_everyclass.md\n",
      "24m_feats_4_weighted_log_tag_multi.md\n",
      "12m_all_weighted_log_tag_multi.md\n",
      "2\n"
     ]
    },
    {
     "name": "stderr",
     "output_type": "stream",
     "text": [
      "/opt/conda/lib/python3.6/site-packages/IPython/core/interactiveshell.py:3058: DtypeWarning: Columns (626,627,628,855,1258) have mixed types. Specify dtype option on import or set low_memory=False.\n",
      "  interactivity=interactivity, compiler=compiler, result=result)\n"
     ]
    },
    {
     "name": "stdout",
     "output_type": "stream",
     "text": [
      "6m_all_1st_weighted_log_tag.md\n",
      "6m_all_2nd_weighted_log_tag.md\n",
      "6m_all_3rd_weighted_log_tag.md\n",
      "6m_all_4th_weighted_log_tag.md\n",
      "12m_feats_4_2nd_weighted_log_tag.md\n",
      "12m_feats_4_weighted_log_tag.md\n",
      "all_all_weighted_log_tag_downsampled_2_num2.md\n",
      "all_all_weighted_log_tag_downsampled_2.md\n",
      "24m_feats_4_weighted_log_tag.md\n",
      "6m_feats_4_weighted_log_tag_iterative_29_3.md\n",
      "12m_all_1st_weighted_log_tag.md\n",
      "12m_all.md\n",
      "6m_all.md\n",
      "6m_all_2nd.md\n",
      "6m_feats_4_1st_weighted_log_mult_tag_hard_classes_only.md\n",
      "12m_feats_4_1st_weighted_log_tag_multiclass.md\n",
      "12m_feats_4_2nd_weighted_log_tag_multiclass.md\n",
      "12m_feats_4_2nd_weighted_log_tag_everyclass.md\n",
      "24m_feats_4_weighted_log_tag_multi.md\n",
      "12m_all_weighted_log_tag_multi.md\n",
      "3\n",
      "6m_all_1st_weighted_log_tag.md\n",
      "6m_all_2nd_weighted_log_tag.md\n",
      "6m_all_3rd_weighted_log_tag.md\n",
      "6m_all_4th_weighted_log_tag.md\n",
      "12m_feats_4_2nd_weighted_log_tag.md\n",
      "12m_feats_4_weighted_log_tag.md\n",
      "all_all_weighted_log_tag_downsampled_2_num2.md\n",
      "all_all_weighted_log_tag_downsampled_2.md\n",
      "24m_feats_4_weighted_log_tag.md\n",
      "6m_feats_4_weighted_log_tag_iterative_29_3.md\n",
      "12m_all_1st_weighted_log_tag.md\n",
      "12m_all.md\n",
      "6m_all.md\n",
      "6m_all_2nd.md\n",
      "6m_feats_4_1st_weighted_log_mult_tag_hard_classes_only.md\n",
      "12m_feats_4_1st_weighted_log_tag_multiclass.md\n",
      "12m_feats_4_2nd_weighted_log_tag_multiclass.md\n",
      "12m_feats_4_2nd_weighted_log_tag_everyclass.md\n",
      "24m_feats_4_weighted_log_tag_multi.md\n",
      "12m_all_weighted_log_tag_multi.md\n",
      "4\n",
      "6m_all_1st_weighted_log_tag.md\n",
      "6m_all_2nd_weighted_log_tag.md\n",
      "6m_all_3rd_weighted_log_tag.md\n",
      "6m_all_4th_weighted_log_tag.md\n",
      "12m_feats_4_2nd_weighted_log_tag.md\n",
      "12m_feats_4_weighted_log_tag.md\n",
      "all_all_weighted_log_tag_downsampled_2_num2.md\n",
      "all_all_weighted_log_tag_downsampled_2.md\n",
      "24m_feats_4_weighted_log_tag.md\n",
      "6m_feats_4_weighted_log_tag_iterative_29_3.md\n",
      "12m_all_1st_weighted_log_tag.md\n",
      "12m_all.md\n",
      "6m_all.md\n",
      "6m_all_2nd.md\n",
      "6m_feats_4_1st_weighted_log_mult_tag_hard_classes_only.md\n",
      "12m_feats_4_1st_weighted_log_tag_multiclass.md\n",
      "12m_feats_4_2nd_weighted_log_tag_multiclass.md\n",
      "12m_feats_4_2nd_weighted_log_tag_everyclass.md\n",
      "24m_feats_4_weighted_log_tag_multi.md\n",
      "12m_all_weighted_log_tag_multi.md\n",
      "5\n"
     ]
    },
    {
     "name": "stderr",
     "output_type": "stream",
     "text": [
      "/opt/conda/lib/python3.6/site-packages/IPython/core/interactiveshell.py:3058: DtypeWarning: Columns (853,855,1258,1265) have mixed types. Specify dtype option on import or set low_memory=False.\n",
      "  interactivity=interactivity, compiler=compiler, result=result)\n"
     ]
    },
    {
     "name": "stdout",
     "output_type": "stream",
     "text": [
      "6m_all_1st_weighted_log_tag.md\n",
      "6m_all_2nd_weighted_log_tag.md\n",
      "6m_all_3rd_weighted_log_tag.md\n",
      "6m_all_4th_weighted_log_tag.md\n",
      "12m_feats_4_2nd_weighted_log_tag.md\n",
      "12m_feats_4_weighted_log_tag.md\n",
      "all_all_weighted_log_tag_downsampled_2_num2.md\n",
      "all_all_weighted_log_tag_downsampled_2.md\n",
      "24m_feats_4_weighted_log_tag.md\n",
      "6m_feats_4_weighted_log_tag_iterative_29_3.md\n",
      "12m_all_1st_weighted_log_tag.md\n",
      "12m_all.md\n",
      "6m_all.md\n",
      "6m_all_2nd.md\n",
      "6m_feats_4_1st_weighted_log_mult_tag_hard_classes_only.md\n",
      "12m_feats_4_1st_weighted_log_tag_multiclass.md\n",
      "12m_feats_4_2nd_weighted_log_tag_multiclass.md\n",
      "12m_feats_4_2nd_weighted_log_tag_everyclass.md\n",
      "24m_feats_4_weighted_log_tag_multi.md\n",
      "12m_all_weighted_log_tag_multi.md\n",
      "6\n"
     ]
    },
    {
     "name": "stderr",
     "output_type": "stream",
     "text": [
      "/opt/conda/lib/python3.6/site-packages/IPython/core/interactiveshell.py:3058: DtypeWarning: Columns (855,1258) have mixed types. Specify dtype option on import or set low_memory=False.\n",
      "  interactivity=interactivity, compiler=compiler, result=result)\n"
     ]
    },
    {
     "name": "stdout",
     "output_type": "stream",
     "text": [
      "6m_all_1st_weighted_log_tag.md\n",
      "6m_all_2nd_weighted_log_tag.md\n",
      "6m_all_3rd_weighted_log_tag.md\n",
      "6m_all_4th_weighted_log_tag.md\n",
      "12m_feats_4_2nd_weighted_log_tag.md\n",
      "12m_feats_4_weighted_log_tag.md\n",
      "all_all_weighted_log_tag_downsampled_2_num2.md\n",
      "all_all_weighted_log_tag_downsampled_2.md\n",
      "24m_feats_4_weighted_log_tag.md\n",
      "6m_feats_4_weighted_log_tag_iterative_29_3.md\n",
      "12m_all_1st_weighted_log_tag.md\n",
      "12m_all.md\n",
      "6m_all.md\n",
      "6m_all_2nd.md\n",
      "6m_feats_4_1st_weighted_log_mult_tag_hard_classes_only.md\n",
      "12m_feats_4_1st_weighted_log_tag_multiclass.md\n",
      "12m_feats_4_2nd_weighted_log_tag_multiclass.md\n",
      "12m_feats_4_2nd_weighted_log_tag_everyclass.md\n",
      "24m_feats_4_weighted_log_tag_multi.md\n",
      "12m_all_weighted_log_tag_multi.md\n",
      "7\n",
      "6m_all_1st_weighted_log_tag.md\n",
      "6m_all_2nd_weighted_log_tag.md\n",
      "6m_all_3rd_weighted_log_tag.md\n",
      "6m_all_4th_weighted_log_tag.md\n",
      "12m_feats_4_2nd_weighted_log_tag.md\n",
      "12m_feats_4_weighted_log_tag.md\n",
      "all_all_weighted_log_tag_downsampled_2_num2.md\n",
      "all_all_weighted_log_tag_downsampled_2.md\n",
      "24m_feats_4_weighted_log_tag.md\n",
      "6m_feats_4_weighted_log_tag_iterative_29_3.md\n",
      "12m_all_1st_weighted_log_tag.md\n",
      "12m_all.md\n",
      "6m_all.md\n",
      "6m_all_2nd.md\n",
      "6m_feats_4_1st_weighted_log_mult_tag_hard_classes_only.md\n",
      "12m_feats_4_1st_weighted_log_tag_multiclass.md\n",
      "12m_feats_4_2nd_weighted_log_tag_multiclass.md\n",
      "12m_feats_4_2nd_weighted_log_tag_everyclass.md\n",
      "24m_feats_4_weighted_log_tag_multi.md\n",
      "12m_all_weighted_log_tag_multi.md\n"
     ]
    }
   ],
   "source": [
    "chunksize = 1000000\n",
    "total_row_count = 7760698\n",
    "tot = total_row_count // chunksize + 1\n",
    "for i in range(tot):\n",
    "    print(i)\n",
    "    if i == 0:\n",
    "        skiprows=None\n",
    "        write_mode = 'w'\n",
    "        header_mode = True\n",
    "    else:\n",
    "        skiprows = chunksize * i\n",
    "        write_mode = 'a'\n",
    "        header_mode = False\n",
    "    raw_df = pd.read_csv(all_train_file, nrows=chunksize, sep='\\a', header=None, skiprows=skiprows)\n",
    "    raw_df.columns = headers_test\n",
    "    mapper = categories.copy()\n",
    "\n",
    "    df = label_encode_df(raw_df.copy(), mapper)\n",
    "    #df = raw_df\n",
    "\n",
    "    X = get_X_df(df)\n",
    "    pred_df = df[['trans_id', 'dol_wgt']].copy()\n",
    "    for mod_name in models_to_run:\n",
    "        print(mod_name)\n",
    "        mod = catb.CatBoostClassifier(thread_count=10)\n",
    "        mod.load_model(f'/home/hchase/shared_data/data/venri/harrison_tmp/{mod_name}')\n",
    "        preds = mod.predict_proba(X)\n",
    "        if len(preds[0]) == 2:\n",
    "            pred_df[mod_name] = preds[:, 1]\n",
    "        else:\n",
    "            for i in range(len(preds[0])):\n",
    "                pred_df[f'{mod_name}__{i}'] = preds[:, i]\n",
    "    \n",
    "    pred_df.to_csv(save_path, index=False, mode=write_mode, header=header_mode)"
   ]
  },
  {
   "cell_type": "code",
   "execution_count": 6,
   "metadata": {
    "ExecuteTime": {
     "end_time": "2019-12-26T20:53:26.208872Z",
     "start_time": "2019-12-26T20:53:22.678789Z"
    },
    "collapsed": true,
    "jupyter": {
     "outputs_hidden": true
    },
    "scrolled": true
   },
   "outputs": [],
   "source": [
    "df1 = pd.read_csv(save_path)"
   ]
  },
  {
   "cell_type": "code",
   "execution_count": 7,
   "metadata": {
    "ExecuteTime": {
     "end_time": "2019-12-26T15:27:25.646195Z",
     "start_time": "2019-12-26T15:27:25.633033Z"
    }
   },
   "outputs": [
    {
     "data": {
      "text/html": [
       "<div>\n",
       "<style scoped>\n",
       "    .dataframe tbody tr th:only-of-type {\n",
       "        vertical-align: middle;\n",
       "    }\n",
       "\n",
       "    .dataframe tbody tr th {\n",
       "        vertical-align: top;\n",
       "    }\n",
       "\n",
       "    .dataframe thead th {\n",
       "        text-align: right;\n",
       "    }\n",
       "</style>\n",
       "<table border=\"1\" class=\"dataframe\">\n",
       "  <thead>\n",
       "    <tr style=\"text-align: right;\">\n",
       "      <th></th>\n",
       "      <th>trans_id</th>\n",
       "      <th>harrison_preds</th>\n",
       "    </tr>\n",
       "  </thead>\n",
       "  <tbody>\n",
       "    <tr>\n",
       "      <th>0</th>\n",
       "      <td>147781333032</td>\n",
       "      <td>0.015718</td>\n",
       "    </tr>\n",
       "    <tr>\n",
       "      <th>1</th>\n",
       "      <td>147781779038</td>\n",
       "      <td>0.000428</td>\n",
       "    </tr>\n",
       "    <tr>\n",
       "      <th>2</th>\n",
       "      <td>147783146838</td>\n",
       "      <td>0.011318</td>\n",
       "    </tr>\n",
       "    <tr>\n",
       "      <th>3</th>\n",
       "      <td>147787692999</td>\n",
       "      <td>0.133143</td>\n",
       "    </tr>\n",
       "    <tr>\n",
       "      <th>4</th>\n",
       "      <td>147795181902</td>\n",
       "      <td>0.019916</td>\n",
       "    </tr>\n",
       "  </tbody>\n",
       "</table>\n",
       "</div>"
      ],
      "text/plain": [
       "       trans_id  harrison_preds\n",
       "0  147781333032        0.015718\n",
       "1  147781779038        0.000428\n",
       "2  147783146838        0.011318\n",
       "3  147787692999        0.133143\n",
       "4  147795181902        0.019916"
      ]
     },
     "execution_count": 7,
     "metadata": {},
     "output_type": "execute_result"
    }
   ],
   "source": [
    "df1.head()"
   ]
  },
  {
   "cell_type": "code",
   "execution_count": 10,
   "metadata": {
    "ExecuteTime": {
     "end_time": "2019-12-26T21:07:21.426515Z",
     "start_time": "2019-12-26T20:54:47.842262Z"
    },
    "collapsed": true,
    "jupyter": {
     "outputs_hidden": true
    },
    "scrolled": true
   },
   "outputs": [],
   "source": [
    "df2 = pd.read_csv(all_train_file, sep='\\a', header=None, usecols=[0,3])"
   ]
  },
  {
   "cell_type": "code",
   "execution_count": 12,
   "metadata": {
    "ExecuteTime": {
     "end_time": "2019-12-26T21:08:14.087191Z",
     "start_time": "2019-12-26T21:08:14.083676Z"
    },
    "scrolled": true
   },
   "outputs": [
    {
     "data": {
      "text/plain": [
       "(7760698, 2)"
      ]
     },
     "execution_count": 12,
     "metadata": {},
     "output_type": "execute_result"
    }
   ],
   "source": [
    "df2.shape"
   ]
  },
  {
   "cell_type": "code",
   "execution_count": 15,
   "metadata": {
    "ExecuteTime": {
     "end_time": "2019-12-26T21:08:43.471752Z",
     "start_time": "2019-12-26T21:08:43.418624Z"
    },
    "collapsed": true,
    "jupyter": {
     "outputs_hidden": true
    }
   },
   "outputs": [],
   "source": [
    "df1['dol_wgt'] = df2[3].values"
   ]
  },
  {
   "cell_type": "code",
   "execution_count": 17,
   "metadata": {
    "ExecuteTime": {
     "end_time": "2019-12-26T21:09:05.115194Z",
     "start_time": "2019-12-26T21:09:05.112100Z"
    },
    "collapsed": true,
    "jupyter": {
     "outputs_hidden": true
    }
   },
   "outputs": [],
   "source": [
    "df1.columns=['trans_id', 'score', 'dol_wgt']"
   ]
  },
  {
   "cell_type": "code",
   "execution_count": 18,
   "metadata": {
    "ExecuteTime": {
     "end_time": "2019-12-26T21:10:17.988511Z",
     "start_time": "2019-12-26T21:09:40.915436Z"
    },
    "collapsed": true,
    "jupyter": {
     "outputs_hidden": true
    }
   },
   "outputs": [],
   "source": [
    "df1.to_csv('/home/hchase/shared_data/data/venri/harrison_tmp/second_pass_predictions_harrison.csv', index=False)"
   ]
  },
  {
   "cell_type": "code",
   "execution_count": 19,
   "metadata": {
    "ExecuteTime": {
     "end_time": "2019-12-26T21:10:38.120784Z",
     "start_time": "2019-12-26T21:10:38.070708Z"
    },
    "collapsed": true,
    "jupyter": {
     "outputs_hidden": true
    }
   },
   "outputs": [],
   "source": [
    "df3 = pd.read_csv('/home/hchase/shared_data/data/venri/harrison_tmp/second_pass_predictions_harrison.csv', nrows=5)"
   ]
  },
  {
   "cell_type": "code",
   "execution_count": 20,
   "metadata": {
    "ExecuteTime": {
     "end_time": "2019-12-26T21:10:43.474274Z",
     "start_time": "2019-12-26T21:10:43.465763Z"
    }
   },
   "outputs": [
    {
     "data": {
      "text/html": [
       "<div>\n",
       "<style scoped>\n",
       "    .dataframe tbody tr th:only-of-type {\n",
       "        vertical-align: middle;\n",
       "    }\n",
       "\n",
       "    .dataframe tbody tr th {\n",
       "        vertical-align: top;\n",
       "    }\n",
       "\n",
       "    .dataframe thead th {\n",
       "        text-align: right;\n",
       "    }\n",
       "</style>\n",
       "<table border=\"1\" class=\"dataframe\">\n",
       "  <thead>\n",
       "    <tr style=\"text-align: right;\">\n",
       "      <th></th>\n",
       "      <th>trans_id</th>\n",
       "      <th>score</th>\n",
       "      <th>dol_wgt</th>\n",
       "    </tr>\n",
       "  </thead>\n",
       "  <tbody>\n",
       "    <tr>\n",
       "      <th>0</th>\n",
       "      <td>147781333032</td>\n",
       "      <td>0.015718</td>\n",
       "      <td>300.0</td>\n",
       "    </tr>\n",
       "    <tr>\n",
       "      <th>1</th>\n",
       "      <td>147781779038</td>\n",
       "      <td>0.000428</td>\n",
       "      <td>79.5</td>\n",
       "    </tr>\n",
       "    <tr>\n",
       "      <th>2</th>\n",
       "      <td>147783146838</td>\n",
       "      <td>0.011318</td>\n",
       "      <td>498.5</td>\n",
       "    </tr>\n",
       "    <tr>\n",
       "      <th>3</th>\n",
       "      <td>147787692999</td>\n",
       "      <td>0.133143</td>\n",
       "      <td>2000.0</td>\n",
       "    </tr>\n",
       "    <tr>\n",
       "      <th>4</th>\n",
       "      <td>147795181902</td>\n",
       "      <td>0.019916</td>\n",
       "      <td>478.5</td>\n",
       "    </tr>\n",
       "  </tbody>\n",
       "</table>\n",
       "</div>"
      ],
      "text/plain": [
       "       trans_id     score  dol_wgt\n",
       "0  147781333032  0.015718    300.0\n",
       "1  147781779038  0.000428     79.5\n",
       "2  147783146838  0.011318    498.5\n",
       "3  147787692999  0.133143   2000.0\n",
       "4  147795181902  0.019916    478.5"
      ]
     },
     "execution_count": 20,
     "metadata": {},
     "output_type": "execute_result"
    }
   ],
   "source": [
    "df3.head()"
   ]
  },
  {
   "cell_type": "code",
   "execution_count": 21,
   "metadata": {
    "ExecuteTime": {
     "end_time": "2019-12-26T21:10:59.463235Z",
     "start_time": "2019-12-26T21:10:59.240688Z"
    },
    "collapsed": true,
    "jupyter": {
     "outputs_hidden": true
    }
   },
   "outputs": [],
   "source": [
    "df4 = pd.read_csv(all_train_file, sep='\\a', header=None, nrows=5)"
   ]
  },
  {
   "cell_type": "code",
   "execution_count": 24,
   "metadata": {
    "ExecuteTime": {
     "end_time": "2019-12-26T21:11:19.990982Z",
     "start_time": "2019-12-26T21:11:19.987836Z"
    },
    "collapsed": true,
    "jupyter": {
     "outputs_hidden": true
    }
   },
   "outputs": [],
   "source": [
    "df4.columns = headers_test"
   ]
  },
  {
   "cell_type": "code",
   "execution_count": 25,
   "metadata": {
    "ExecuteTime": {
     "end_time": "2019-12-26T21:11:23.358393Z",
     "start_time": "2019-12-26T21:11:23.332554Z"
    }
   },
   "outputs": [
    {
     "data": {
      "text/html": [
       "<div>\n",
       "<style scoped>\n",
       "    .dataframe tbody tr th:only-of-type {\n",
       "        vertical-align: middle;\n",
       "    }\n",
       "\n",
       "    .dataframe tbody tr th {\n",
       "        vertical-align: top;\n",
       "    }\n",
       "\n",
       "    .dataframe thead th {\n",
       "        text-align: right;\n",
       "    }\n",
       "</style>\n",
       "<table border=\"1\" class=\"dataframe\">\n",
       "  <thead>\n",
       "    <tr style=\"text-align: right;\">\n",
       "      <th></th>\n",
       "      <th>trans_id</th>\n",
       "      <th>pmt_month</th>\n",
       "      <th>pmt_start_date</th>\n",
       "      <th>dol_wgt</th>\n",
       "      <th>usd_amt</th>\n",
       "      <th>v1</th>\n",
       "      <th>v2</th>\n",
       "      <th>v3</th>\n",
       "      <th>v4</th>\n",
       "      <th>v5</th>\n",
       "      <th>...</th>\n",
       "      <th>v2175</th>\n",
       "      <th>v2176</th>\n",
       "      <th>v2177</th>\n",
       "      <th>v2178</th>\n",
       "      <th>v2179</th>\n",
       "      <th>v2180</th>\n",
       "      <th>v2181</th>\n",
       "      <th>v2182</th>\n",
       "      <th>v2183</th>\n",
       "      <th>v2184</th>\n",
       "    </tr>\n",
       "  </thead>\n",
       "  <tbody>\n",
       "    <tr>\n",
       "      <th>0</th>\n",
       "      <td>147781333032</td>\n",
       "      <td>2018/11</td>\n",
       "      <td>2018/11/01</td>\n",
       "      <td>300.0</td>\n",
       "      <td>6.00</td>\n",
       "      <td>426</td>\n",
       "      <td>14</td>\n",
       "      <td>36890766</td>\n",
       "      <td>1.000000</td>\n",
       "      <td>GOOD_CONSISTENCY</td>\n",
       "      <td>...</td>\n",
       "      <td>0</td>\n",
       "      <td>-1.000000</td>\n",
       "      <td>-1.0</td>\n",
       "      <td>8108.40</td>\n",
       "      <td>44</td>\n",
       "      <td>US</td>\n",
       "      <td>0.006</td>\n",
       "      <td>0.015</td>\n",
       "      <td>0</td>\n",
       "      <td>0</td>\n",
       "    </tr>\n",
       "    <tr>\n",
       "      <th>1</th>\n",
       "      <td>147781779038</td>\n",
       "      <td>2018/11</td>\n",
       "      <td>2018/11/01</td>\n",
       "      <td>79.5</td>\n",
       "      <td>1.59</td>\n",
       "      <td>2405</td>\n",
       "      <td>80</td>\n",
       "      <td>207853378</td>\n",
       "      <td>0.800000</td>\n",
       "      <td>MED_CONSISTENCY</td>\n",
       "      <td>...</td>\n",
       "      <td>3</td>\n",
       "      <td>0.333333</td>\n",
       "      <td>1.0</td>\n",
       "      <td>6912.37</td>\n",
       "      <td>44</td>\n",
       "      <td>C2</td>\n",
       "      <td>0.004</td>\n",
       "      <td>0.001</td>\n",
       "      <td>0</td>\n",
       "      <td>0</td>\n",
       "    </tr>\n",
       "    <tr>\n",
       "      <th>2</th>\n",
       "      <td>147783146838</td>\n",
       "      <td>2018/11</td>\n",
       "      <td>2018/11/02</td>\n",
       "      <td>498.5</td>\n",
       "      <td>9.97</td>\n",
       "      <td>1278</td>\n",
       "      <td>42</td>\n",
       "      <td>110449780</td>\n",
       "      <td>0.900000</td>\n",
       "      <td>MED_CONSISTENCY</td>\n",
       "      <td>...</td>\n",
       "      <td>0</td>\n",
       "      <td>-1.000000</td>\n",
       "      <td>-1.0</td>\n",
       "      <td>8108.40</td>\n",
       "      <td>44</td>\n",
       "      <td>FR</td>\n",
       "      <td>0.000</td>\n",
       "      <td>0.000</td>\n",
       "      <td>0</td>\n",
       "      <td>0</td>\n",
       "    </tr>\n",
       "    <tr>\n",
       "      <th>3</th>\n",
       "      <td>147787692999</td>\n",
       "      <td>2018/11</td>\n",
       "      <td>2018/11/02</td>\n",
       "      <td>2000.0</td>\n",
       "      <td>40.00</td>\n",
       "      <td>0</td>\n",
       "      <td>0</td>\n",
       "      <td>4</td>\n",
       "      <td>-1.000000</td>\n",
       "      <td>NO_DATA</td>\n",
       "      <td>...</td>\n",
       "      <td>0</td>\n",
       "      <td>-1.000000</td>\n",
       "      <td>-1.0</td>\n",
       "      <td>28725.30</td>\n",
       "      <td>44</td>\n",
       "      <td>US</td>\n",
       "      <td>-1.000</td>\n",
       "      <td>-1.000</td>\n",
       "      <td>0</td>\n",
       "      <td>1</td>\n",
       "    </tr>\n",
       "    <tr>\n",
       "      <th>4</th>\n",
       "      <td>147795181902</td>\n",
       "      <td>2018/11</td>\n",
       "      <td>2018/11/02</td>\n",
       "      <td>478.5</td>\n",
       "      <td>9.57</td>\n",
       "      <td>13</td>\n",
       "      <td>0</td>\n",
       "      <td>1194782</td>\n",
       "      <td>0.192173</td>\n",
       "      <td>GOOD_CONSISTENCY</td>\n",
       "      <td>...</td>\n",
       "      <td>0</td>\n",
       "      <td>-1.000000</td>\n",
       "      <td>-1.0</td>\n",
       "      <td>8108.40</td>\n",
       "      <td>44</td>\n",
       "      <td>IN</td>\n",
       "      <td>-1.000</td>\n",
       "      <td>-1.000</td>\n",
       "      <td>0</td>\n",
       "      <td>0</td>\n",
       "    </tr>\n",
       "  </tbody>\n",
       "</table>\n",
       "<p>5 rows × 2189 columns</p>\n",
       "</div>"
      ],
      "text/plain": [
       "       trans_id pmt_month pmt_start_date  dol_wgt  usd_amt    v1  v2  \\\n",
       "0  147781333032   2018/11     2018/11/01    300.0     6.00   426  14   \n",
       "1  147781779038   2018/11     2018/11/01     79.5     1.59  2405  80   \n",
       "2  147783146838   2018/11     2018/11/02    498.5     9.97  1278  42   \n",
       "3  147787692999   2018/11     2018/11/02   2000.0    40.00     0   0   \n",
       "4  147795181902   2018/11     2018/11/02    478.5     9.57    13   0   \n",
       "\n",
       "          v3        v4                v5  ...  v2175     v2176  v2177  \\\n",
       "0   36890766  1.000000  GOOD_CONSISTENCY  ...      0 -1.000000   -1.0   \n",
       "1  207853378  0.800000   MED_CONSISTENCY  ...      3  0.333333    1.0   \n",
       "2  110449780  0.900000   MED_CONSISTENCY  ...      0 -1.000000   -1.0   \n",
       "3          4 -1.000000           NO_DATA  ...      0 -1.000000   -1.0   \n",
       "4    1194782  0.192173  GOOD_CONSISTENCY  ...      0 -1.000000   -1.0   \n",
       "\n",
       "      v2178  v2179  v2180  v2181  v2182  v2183  v2184  \n",
       "0   8108.40     44     US  0.006  0.015      0      0  \n",
       "1   6912.37     44     C2  0.004  0.001      0      0  \n",
       "2   8108.40     44     FR  0.000  0.000      0      0  \n",
       "3  28725.30     44     US -1.000 -1.000      0      1  \n",
       "4   8108.40     44     IN -1.000 -1.000      0      0  \n",
       "\n",
       "[5 rows x 2189 columns]"
      ]
     },
     "execution_count": 25,
     "metadata": {},
     "output_type": "execute_result"
    }
   ],
   "source": [
    "df4.head()"
   ]
  },
  {
   "cell_type": "code",
   "execution_count": 1,
   "metadata": {
    "ExecuteTime": {
     "end_time": "2019-12-26T15:11:59.546960Z",
     "start_time": "2019-12-26T15:11:58.835668Z"
    }
   },
   "outputs": [
    {
     "name": "stdout",
     "output_type": "stream",
     "text": [
      "7760699\n"
     ]
    }
   ],
   "source": [
    "!cat /home/hchase/shared_data/data/venri/harrison_tmp/first_pass_predictions_harrison.csv | wc -l"
   ]
  },
  {
   "cell_type": "code",
   "execution_count": null,
   "metadata": {
    "collapsed": true,
    "jupyter": {
     "outputs_hidden": true
    }
   },
   "outputs": [],
   "source": []
  }
 ],
 "metadata": {
  "kernelspec": {
   "display_name": "Python 3",
   "language": "python",
   "name": "python3"
  },
  "language_info": {
   "codemirror_mode": {
    "name": "ipython",
    "version": 3
   },
   "file_extension": ".py",
   "mimetype": "text/x-python",
   "name": "python",
   "nbconvert_exporter": "python",
   "pygments_lexer": "ipython3",
   "version": "3.7.5"
  }
 },
 "nbformat": 4,
 "nbformat_minor": 4
}
